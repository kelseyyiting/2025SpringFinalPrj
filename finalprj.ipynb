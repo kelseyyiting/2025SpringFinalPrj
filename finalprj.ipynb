{
 "cells": [
  {
   "cell_type": "markdown",
   "id": "f86f65ed7b1c0e4",
   "metadata": {},
   "source": [
    "### Database\n",
    "E scooter record: https://data.cityofchicago.org/Transportation/E-Scooter-Trips/2i5w-ykuw/about_data\n",
    "\n",
    "Divvy record: https://data.cityofchicago.org/Transportation/Divvy-Trips/fg6s-gzvg/about_data\n"
   ]
  },
  {
   "cell_type": "markdown",
   "id": "eaa8d1b28e6e5b7d",
   "metadata": {},
   "source": [
    "## Get ready for analysis"
   ]
  },
  {
   "cell_type": "markdown",
   "id": "79af118911d6005f",
   "metadata": {},
   "source": [
    "### Filter data from website\n",
    "I chose person_type = 'BICYCLE' and 'NON-MOTOR VEHICLES' from the Traffic Crashes – People database and vehicle_type = 'MOPED OR MOTORIZED BICYCLE' from the Traffic Crashes – Vehicles database to get the crash IDs for accidents involving electric bikes, bikes and mopeds for further analysis."
   ]
  },
  {
   "cell_type": "markdown",
   "id": "41cdfb89613a5e00",
   "metadata": {},
   "source": [
    "Because the e‑scooter record data is too large, I will focus my analysis on the year 2023."
   ]
  },
  {
   "cell_type": "markdown",
   "id": "fdd824936a3ae8cd",
   "metadata": {},
   "source": [
    "## Data Preprocessing"
   ]
  },
  {
   "cell_type": "code",
   "id": "68d4f709a6e9fd4c",
   "metadata": {
    "ExecuteTime": {
     "end_time": "2025-05-05T03:33:20.443706Z",
     "start_time": "2025-05-05T03:33:20.440497Z"
    }
   },
   "source": [
    "import pandas as pd\n",
    "import numpy as np\n",
    "import doctest\n",
    "\n",
    "from soupsieve.css_parser import RE_NTH"
   ],
   "outputs": [],
   "execution_count": 14
  },
  {
   "metadata": {},
   "cell_type": "markdown",
   "source": "### Load the data",
   "id": "8c34adffe141874e"
  },
  {
   "metadata": {},
   "cell_type": "markdown",
   "source": "Write the method for combining multiple csv",
   "id": "58d27998efdc6a74"
  },
  {
   "metadata": {
    "ExecuteTime": {
     "end_time": "2025-05-05T03:33:20.449974Z",
     "start_time": "2025-05-05T03:33:20.446725Z"
    }
   },
   "cell_type": "code",
   "source": [
    "def load_multiple_csv(files,time_sig=False) -> pd.DataFrame:\n",
    "    dfs=[]\n",
    "\n",
    "    for file in files:\n",
    "        df=pd.read_csv(file)\n",
    "        if time_sig: # if we need to change the format of time\n",
    "            df=time_change(df)\n",
    "        dfs.append(df)\n",
    "    return pd.concat(dfs, ignore_index=True)"
   ],
   "id": "4169d63d6119f554",
   "outputs": [],
   "execution_count": 15
  },
  {
   "metadata": {
    "ExecuteTime": {
     "end_time": "2025-05-05T03:33:20.467379Z",
     "start_time": "2025-05-05T03:33:20.464348Z"
    }
   },
   "cell_type": "code",
   "source": [
    "%load_ext doctest\n",
    "%doctest_mode"
   ],
   "id": "fe0c1b081269cb7b",
   "outputs": [
    {
     "name": "stdout",
     "output_type": "stream",
     "text": [
      "The doctest module is not an IPython extension.\n",
      "Exception reporting mode: Context\n",
      "Doctest mode is: OFF\n"
     ]
    }
   ],
   "execution_count": 16
  },
  {
   "metadata": {
    "ExecuteTime": {
     "end_time": "2025-05-05T03:33:20.483533Z",
     "start_time": "2025-05-05T03:33:20.480350Z"
    }
   },
   "cell_type": "code",
   "source": [
    "def time_change(df:pd.DataFrame) : #the method of change the format of time\n",
    "    \"\"\"\n",
    "    :param df:\n",
    "    :return:\n",
    "    \"\"\"\n",
    "    df[\"ended_at\"] = pd.to_datetime(df[\"ended_at\"], errors=\"coerce\")\n",
    "    df[\"started_at\"] =  pd.to_datetime(df[\"started_at\"], format=\"%Y-%m-%d  %H:%M:%S\",errors=\"coerce\")\n",
    "    df[\"ended_at\"] = pd.to_datetime(df[\"ended_at\"],format=\"%Y-%m-%d  %H:%M:%S\",errors=\"coerce\")\n",
    "    return df"
   ],
   "id": "9e8620146e2b75de",
   "outputs": [],
   "execution_count": 17
  },
  {
   "metadata": {},
   "cell_type": "markdown",
   "source": "Load the data of bikes had crash in 2024",
   "id": "45a3f331bb4926ff"
  },
  {
   "metadata": {
    "ExecuteTime": {
     "end_time": "2025-05-05T03:33:20.516020Z",
     "start_time": "2025-05-05T03:33:20.496405Z"
    }
   },
   "cell_type": "code",
   "source": [
    "crashes_bike=pd.read_csv('Data/Traffic_Crashes_-_People.csv')\n",
    "crashes_bike.shape"
   ],
   "id": "a28cbcbd17f32f41",
   "outputs": [
    {
     "data": {
      "text/plain": [
       "(6696, 10)"
      ]
     },
     "execution_count": 18,
     "metadata": {},
     "output_type": "execute_result"
    }
   ],
   "execution_count": 18
  },
  {
   "metadata": {},
   "cell_type": "markdown",
   "source": "Load the details of crashes",
   "id": "699e2db313dadf53"
  },
  {
   "metadata": {
    "ExecuteTime": {
     "end_time": "2025-05-05T03:33:20.532733Z",
     "start_time": "2025-05-05T03:33:20.529371Z"
    }
   },
   "cell_type": "code",
   "source": [
    "import glob\n",
    "import os"
   ],
   "id": "21e6731b45c0b506",
   "outputs": [],
   "execution_count": 19
  },
  {
   "metadata": {
    "ExecuteTime": {
     "end_time": "2025-05-05T03:33:21.470903Z",
     "start_time": "2025-05-05T03:33:20.545988Z"
    }
   },
   "cell_type": "code",
   "source": [
    "cd=glob.glob(os.path.join(\"Data/Crashes-Crashes\",\"*.csv\"))\n",
    "crashes_details=load_multiple_csv(cd)\n",
    "print(crashes_details.shape)"
   ],
   "id": "1118949ece08d65a",
   "outputs": [
    {
     "name": "stdout",
     "output_type": "stream",
     "text": [
      "(331204, 15)\n"
     ]
    }
   ],
   "execution_count": 20
  },
  {
   "metadata": {
    "ExecuteTime": {
     "end_time": "2025-05-05T03:33:21.499616Z",
     "start_time": "2025-05-05T03:33:21.488831Z"
    }
   },
   "cell_type": "code",
   "source": "crashes_details.tail()",
   "id": "7364956c0202db1d",
   "outputs": [
    {
     "data": {
      "text/plain": [
       "                                          CRASH_RECORD_ID CRASH_DATE_EST_I  \\\n",
       "331199  3b1793228e17d77a3f8155d61b18db544b4df619047aeb...              NaN   \n",
       "331200  dfc8611244fa9d253b523b72507b7c3ef51669440dd949...              NaN   \n",
       "331201  185a472363e34e93586515ec860fe6222af49f29d59f40...              NaN   \n",
       "331202  5161efdc2c1e9a2b4258fdf2aa9e80842c24ecb809beca...                Y   \n",
       "331203  c53b8a03d0579a96e405f12d3547fbe6efdac9e2ae3227...                Y   \n",
       "\n",
       "                    CRASH_DATE  POSTED_SPEED_LIMIT WEATHER_CONDITION  \\\n",
       "331199  01/01/2022 12:16:00 AM                  25              RAIN   \n",
       "331200  01/01/2022 12:13:00 AM                  25             CLEAR   \n",
       "331201  01/01/2022 12:01:00 AM                  30              RAIN   \n",
       "331202  01/01/2022 12:00:00 AM                  30           UNKNOWN   \n",
       "331203  01/01/2022 12:00:00 AM                  30              SNOW   \n",
       "\n",
       "            LIGHTING_CONDITION      FIRST_CRASH_TYPE  \\\n",
       "331199  DARKNESS, LIGHTED ROAD              REAR END   \n",
       "331200                DARKNESS            PEDESTRIAN   \n",
       "331201  DARKNESS, LIGHTED ROAD  PARKED MOTOR VEHICLE   \n",
       "331202                DARKNESS  PARKED MOTOR VEHICLE   \n",
       "331203                 UNKNOWN  PARKED MOTOR VEHICLE   \n",
       "\n",
       "                   TRAFFICWAY_TYPE           ALIGNMENT ROADWAY_SURFACE_COND  \\\n",
       "331199                    FOUR WAY  STRAIGHT AND LEVEL                  WET   \n",
       "331200               TRAFFIC ROUTE  STRAIGHT AND LEVEL              UNKNOWN   \n",
       "331201  DIVIDED - W/MEDIAN BARRIER  STRAIGHT AND LEVEL                  WET   \n",
       "331202                    FOUR WAY  STRAIGHT AND LEVEL              UNKNOWN   \n",
       "331203                 NOT DIVIDED  STRAIGHT AND LEVEL        SNOW OR SLUSH   \n",
       "\n",
       "                              CRASH_TYPE        STREET_NAME   LATITUDE  \\\n",
       "331199  INJURY AND / OR TOW DUE TO CRASH        ASHLAND AVE  41.939607   \n",
       "331200  INJURY AND / OR TOW DUE TO CRASH        DEARBORN ST  41.892485   \n",
       "331201  INJURY AND / OR TOW DUE TO CRASH        ASHLAND AVE  41.959862   \n",
       "331202  INJURY AND / OR TOW DUE TO CRASH       LAVERGNE AVE  41.878435   \n",
       "331203            NO INJURY / DRIVE AWAY  COTTAGE GROVE AVE  41.783176   \n",
       "\n",
       "        LONGITUDE                                  LOCATION  \n",
       "331199 -87.668512   POINT (-87.668511877903 41.93960738818)  \n",
       "331200 -87.629824   POINT (-87.62982443971 41.892485453597)  \n",
       "331201 -87.669060  POINT (-87.669060386182 41.959862115902)  \n",
       "331202 -87.749197  POINT (-87.749197336639 41.878434703718)  \n",
       "331203 -87.605844  POINT (-87.605843515532 41.783175785112)  "
      ],
      "text/html": [
       "<div>\n",
       "<style scoped>\n",
       "    .dataframe tbody tr th:only-of-type {\n",
       "        vertical-align: middle;\n",
       "    }\n",
       "\n",
       "    .dataframe tbody tr th {\n",
       "        vertical-align: top;\n",
       "    }\n",
       "\n",
       "    .dataframe thead th {\n",
       "        text-align: right;\n",
       "    }\n",
       "</style>\n",
       "<table border=\"1\" class=\"dataframe\">\n",
       "  <thead>\n",
       "    <tr style=\"text-align: right;\">\n",
       "      <th></th>\n",
       "      <th>CRASH_RECORD_ID</th>\n",
       "      <th>CRASH_DATE_EST_I</th>\n",
       "      <th>CRASH_DATE</th>\n",
       "      <th>POSTED_SPEED_LIMIT</th>\n",
       "      <th>WEATHER_CONDITION</th>\n",
       "      <th>LIGHTING_CONDITION</th>\n",
       "      <th>FIRST_CRASH_TYPE</th>\n",
       "      <th>TRAFFICWAY_TYPE</th>\n",
       "      <th>ALIGNMENT</th>\n",
       "      <th>ROADWAY_SURFACE_COND</th>\n",
       "      <th>CRASH_TYPE</th>\n",
       "      <th>STREET_NAME</th>\n",
       "      <th>LATITUDE</th>\n",
       "      <th>LONGITUDE</th>\n",
       "      <th>LOCATION</th>\n",
       "    </tr>\n",
       "  </thead>\n",
       "  <tbody>\n",
       "    <tr>\n",
       "      <th>331199</th>\n",
       "      <td>3b1793228e17d77a3f8155d61b18db544b4df619047aeb...</td>\n",
       "      <td>NaN</td>\n",
       "      <td>01/01/2022 12:16:00 AM</td>\n",
       "      <td>25</td>\n",
       "      <td>RAIN</td>\n",
       "      <td>DARKNESS, LIGHTED ROAD</td>\n",
       "      <td>REAR END</td>\n",
       "      <td>FOUR WAY</td>\n",
       "      <td>STRAIGHT AND LEVEL</td>\n",
       "      <td>WET</td>\n",
       "      <td>INJURY AND / OR TOW DUE TO CRASH</td>\n",
       "      <td>ASHLAND AVE</td>\n",
       "      <td>41.939607</td>\n",
       "      <td>-87.668512</td>\n",
       "      <td>POINT (-87.668511877903 41.93960738818)</td>\n",
       "    </tr>\n",
       "    <tr>\n",
       "      <th>331200</th>\n",
       "      <td>dfc8611244fa9d253b523b72507b7c3ef51669440dd949...</td>\n",
       "      <td>NaN</td>\n",
       "      <td>01/01/2022 12:13:00 AM</td>\n",
       "      <td>25</td>\n",
       "      <td>CLEAR</td>\n",
       "      <td>DARKNESS</td>\n",
       "      <td>PEDESTRIAN</td>\n",
       "      <td>TRAFFIC ROUTE</td>\n",
       "      <td>STRAIGHT AND LEVEL</td>\n",
       "      <td>UNKNOWN</td>\n",
       "      <td>INJURY AND / OR TOW DUE TO CRASH</td>\n",
       "      <td>DEARBORN ST</td>\n",
       "      <td>41.892485</td>\n",
       "      <td>-87.629824</td>\n",
       "      <td>POINT (-87.62982443971 41.892485453597)</td>\n",
       "    </tr>\n",
       "    <tr>\n",
       "      <th>331201</th>\n",
       "      <td>185a472363e34e93586515ec860fe6222af49f29d59f40...</td>\n",
       "      <td>NaN</td>\n",
       "      <td>01/01/2022 12:01:00 AM</td>\n",
       "      <td>30</td>\n",
       "      <td>RAIN</td>\n",
       "      <td>DARKNESS, LIGHTED ROAD</td>\n",
       "      <td>PARKED MOTOR VEHICLE</td>\n",
       "      <td>DIVIDED - W/MEDIAN BARRIER</td>\n",
       "      <td>STRAIGHT AND LEVEL</td>\n",
       "      <td>WET</td>\n",
       "      <td>INJURY AND / OR TOW DUE TO CRASH</td>\n",
       "      <td>ASHLAND AVE</td>\n",
       "      <td>41.959862</td>\n",
       "      <td>-87.669060</td>\n",
       "      <td>POINT (-87.669060386182 41.959862115902)</td>\n",
       "    </tr>\n",
       "    <tr>\n",
       "      <th>331202</th>\n",
       "      <td>5161efdc2c1e9a2b4258fdf2aa9e80842c24ecb809beca...</td>\n",
       "      <td>Y</td>\n",
       "      <td>01/01/2022 12:00:00 AM</td>\n",
       "      <td>30</td>\n",
       "      <td>UNKNOWN</td>\n",
       "      <td>DARKNESS</td>\n",
       "      <td>PARKED MOTOR VEHICLE</td>\n",
       "      <td>FOUR WAY</td>\n",
       "      <td>STRAIGHT AND LEVEL</td>\n",
       "      <td>UNKNOWN</td>\n",
       "      <td>INJURY AND / OR TOW DUE TO CRASH</td>\n",
       "      <td>LAVERGNE AVE</td>\n",
       "      <td>41.878435</td>\n",
       "      <td>-87.749197</td>\n",
       "      <td>POINT (-87.749197336639 41.878434703718)</td>\n",
       "    </tr>\n",
       "    <tr>\n",
       "      <th>331203</th>\n",
       "      <td>c53b8a03d0579a96e405f12d3547fbe6efdac9e2ae3227...</td>\n",
       "      <td>Y</td>\n",
       "      <td>01/01/2022 12:00:00 AM</td>\n",
       "      <td>30</td>\n",
       "      <td>SNOW</td>\n",
       "      <td>UNKNOWN</td>\n",
       "      <td>PARKED MOTOR VEHICLE</td>\n",
       "      <td>NOT DIVIDED</td>\n",
       "      <td>STRAIGHT AND LEVEL</td>\n",
       "      <td>SNOW OR SLUSH</td>\n",
       "      <td>NO INJURY / DRIVE AWAY</td>\n",
       "      <td>COTTAGE GROVE AVE</td>\n",
       "      <td>41.783176</td>\n",
       "      <td>-87.605844</td>\n",
       "      <td>POINT (-87.605843515532 41.783175785112)</td>\n",
       "    </tr>\n",
       "  </tbody>\n",
       "</table>\n",
       "</div>"
      ]
     },
     "execution_count": 21,
     "metadata": {},
     "output_type": "execute_result"
    }
   ],
   "execution_count": 21
  },
  {
   "metadata": {},
   "cell_type": "markdown",
   "source": "combined the e-scooter record",
   "id": "52f99a5333b4366c"
  },
  {
   "metadata": {
    "ExecuteTime": {
     "end_time": "2025-05-05T03:34:38.734489Z",
     "start_time": "2025-05-05T03:33:21.515077Z"
    }
   },
   "cell_type": "code",
   "source": [
    "bd=glob.glob(os.path.join(\"Data/DivvyTrips_split\",\"*.csv\"))\n",
    "bike_loan_record=load_multiple_csv(bd,True)\n",
    "bike_loan_record.sort_values(by=\"ended_at\",ascending=True,inplace=True)"
   ],
   "id": "b4e791c41e1cef4",
   "outputs": [],
   "execution_count": 22
  },
  {
   "metadata": {
    "ExecuteTime": {
     "end_time": "2025-05-05T03:34:38.914888Z",
     "start_time": "2025-05-05T03:34:38.906883Z"
    }
   },
   "cell_type": "code",
   "source": "bike_loan_record.head()",
   "id": "edf917a59e2bddbc",
   "outputs": [
    {
     "data": {
      "text/plain": [
       "                ride_id  rideable_type          started_at  \\\n",
       "73479  98D355D9A9852BE9   classic_bike 2022-01-01 00:00:05   \n",
       "14960  AC1F67BDCDDD5988  electric_bike 2022-01-01 00:03:36   \n",
       "68510  04706CA7F5BD25EE  electric_bike 2022-01-01 00:01:00   \n",
       "9748   A5BD5A4FD53D5414  electric_bike 2022-01-01 00:05:59   \n",
       "60483  0C9545AFBACF60E1   classic_bike 2022-01-01 00:06:27   \n",
       "\n",
       "                 ended_at          start_station_name start_station_id  \\\n",
       "73479 2022-01-01 00:01:48       Michigan Ave & 8th St              623   \n",
       "14960 2022-01-01 00:04:02           Adler Planetarium            13431   \n",
       "68510 2022-01-01 00:04:39     Broadway & Waveland Ave            13325   \n",
       "9748  2022-01-01 00:08:06       Shields Ave & 31st St     KA1503000038   \n",
       "60483 2022-01-01 00:09:06  Fairbanks St & Superior St            18003   \n",
       "\n",
       "               end_station_name end_station_id  start_lat  start_lng  \\\n",
       "73479     Michigan Ave & 8th St            623  41.872773 -87.623981   \n",
       "14960         Adler Planetarium          13431  41.866155 -87.607292   \n",
       "68510      Broadway & Barry Ave          13137  41.949073 -87.648633   \n",
       "9748      Emerald Ave & 31st St   TA1309000055  41.838452 -87.635330   \n",
       "60483  Fairbanks Ct & Grand Ave   TA1305000003  41.895748 -87.620104   \n",
       "\n",
       "         end_lat    end_lng member_casual  \n",
       "73479  41.872773 -87.623981        casual  \n",
       "14960  41.866095 -87.607267        member  \n",
       "68510  41.937582 -87.644098        casual  \n",
       "9748   41.838198 -87.645143        member  \n",
       "60483  41.891847 -87.620580        member  "
      ],
      "text/html": [
       "<div>\n",
       "<style scoped>\n",
       "    .dataframe tbody tr th:only-of-type {\n",
       "        vertical-align: middle;\n",
       "    }\n",
       "\n",
       "    .dataframe tbody tr th {\n",
       "        vertical-align: top;\n",
       "    }\n",
       "\n",
       "    .dataframe thead th {\n",
       "        text-align: right;\n",
       "    }\n",
       "</style>\n",
       "<table border=\"1\" class=\"dataframe\">\n",
       "  <thead>\n",
       "    <tr style=\"text-align: right;\">\n",
       "      <th></th>\n",
       "      <th>ride_id</th>\n",
       "      <th>rideable_type</th>\n",
       "      <th>started_at</th>\n",
       "      <th>ended_at</th>\n",
       "      <th>start_station_name</th>\n",
       "      <th>start_station_id</th>\n",
       "      <th>end_station_name</th>\n",
       "      <th>end_station_id</th>\n",
       "      <th>start_lat</th>\n",
       "      <th>start_lng</th>\n",
       "      <th>end_lat</th>\n",
       "      <th>end_lng</th>\n",
       "      <th>member_casual</th>\n",
       "    </tr>\n",
       "  </thead>\n",
       "  <tbody>\n",
       "    <tr>\n",
       "      <th>73479</th>\n",
       "      <td>98D355D9A9852BE9</td>\n",
       "      <td>classic_bike</td>\n",
       "      <td>2022-01-01 00:00:05</td>\n",
       "      <td>2022-01-01 00:01:48</td>\n",
       "      <td>Michigan Ave &amp; 8th St</td>\n",
       "      <td>623</td>\n",
       "      <td>Michigan Ave &amp; 8th St</td>\n",
       "      <td>623</td>\n",
       "      <td>41.872773</td>\n",
       "      <td>-87.623981</td>\n",
       "      <td>41.872773</td>\n",
       "      <td>-87.623981</td>\n",
       "      <td>casual</td>\n",
       "    </tr>\n",
       "    <tr>\n",
       "      <th>14960</th>\n",
       "      <td>AC1F67BDCDDD5988</td>\n",
       "      <td>electric_bike</td>\n",
       "      <td>2022-01-01 00:03:36</td>\n",
       "      <td>2022-01-01 00:04:02</td>\n",
       "      <td>Adler Planetarium</td>\n",
       "      <td>13431</td>\n",
       "      <td>Adler Planetarium</td>\n",
       "      <td>13431</td>\n",
       "      <td>41.866155</td>\n",
       "      <td>-87.607292</td>\n",
       "      <td>41.866095</td>\n",
       "      <td>-87.607267</td>\n",
       "      <td>member</td>\n",
       "    </tr>\n",
       "    <tr>\n",
       "      <th>68510</th>\n",
       "      <td>04706CA7F5BD25EE</td>\n",
       "      <td>electric_bike</td>\n",
       "      <td>2022-01-01 00:01:00</td>\n",
       "      <td>2022-01-01 00:04:39</td>\n",
       "      <td>Broadway &amp; Waveland Ave</td>\n",
       "      <td>13325</td>\n",
       "      <td>Broadway &amp; Barry Ave</td>\n",
       "      <td>13137</td>\n",
       "      <td>41.949073</td>\n",
       "      <td>-87.648633</td>\n",
       "      <td>41.937582</td>\n",
       "      <td>-87.644098</td>\n",
       "      <td>casual</td>\n",
       "    </tr>\n",
       "    <tr>\n",
       "      <th>9748</th>\n",
       "      <td>A5BD5A4FD53D5414</td>\n",
       "      <td>electric_bike</td>\n",
       "      <td>2022-01-01 00:05:59</td>\n",
       "      <td>2022-01-01 00:08:06</td>\n",
       "      <td>Shields Ave &amp; 31st St</td>\n",
       "      <td>KA1503000038</td>\n",
       "      <td>Emerald Ave &amp; 31st St</td>\n",
       "      <td>TA1309000055</td>\n",
       "      <td>41.838452</td>\n",
       "      <td>-87.635330</td>\n",
       "      <td>41.838198</td>\n",
       "      <td>-87.645143</td>\n",
       "      <td>member</td>\n",
       "    </tr>\n",
       "    <tr>\n",
       "      <th>60483</th>\n",
       "      <td>0C9545AFBACF60E1</td>\n",
       "      <td>classic_bike</td>\n",
       "      <td>2022-01-01 00:06:27</td>\n",
       "      <td>2022-01-01 00:09:06</td>\n",
       "      <td>Fairbanks St &amp; Superior St</td>\n",
       "      <td>18003</td>\n",
       "      <td>Fairbanks Ct &amp; Grand Ave</td>\n",
       "      <td>TA1305000003</td>\n",
       "      <td>41.895748</td>\n",
       "      <td>-87.620104</td>\n",
       "      <td>41.891847</td>\n",
       "      <td>-87.620580</td>\n",
       "      <td>member</td>\n",
       "    </tr>\n",
       "  </tbody>\n",
       "</table>\n",
       "</div>"
      ]
     },
     "execution_count": 23,
     "metadata": {},
     "output_type": "execute_result"
    }
   ],
   "execution_count": 23
  },
  {
   "metadata": {},
   "cell_type": "markdown",
   "source": "### Combine the Data",
   "id": "316e9530e3e20eb4"
  },
  {
   "metadata": {},
   "cell_type": "markdown",
   "source": "Find the details of bike crashes from the file \"Crashes-Crashes\" with using CRASH_RECORD_ID, the CRASH_DATE will be later helpful in finding which loan record had a crash",
   "id": "dcda1e2f2f15fda2"
  },
  {
   "metadata": {
    "ExecuteTime": {
     "end_time": "2025-05-05T03:34:38.998808Z",
     "start_time": "2025-05-05T03:34:38.941122Z"
    }
   },
   "cell_type": "code",
   "source": [
    "bike_crash_detail = crashes_details[crashes_details['CRASH_RECORD_ID'].isin(crashes_bike['CRASH_RECORD_ID'])].copy()\n",
    "bike_crash_detail['CRASH_DATE']=pd.to_datetime(bike_crash_detail['CRASH_DATE'],format=\"%m/%d/%Y %I:%M:%S %p\")\n",
    "bike_crash_detail.sort_values(by=\"CRASH_DATE\",ascending=True,inplace=True)\n",
    "print(bike_crash_detail.shape)"
   ],
   "id": "8c804dbb124c90fb",
   "outputs": [
    {
     "name": "stdout",
     "output_type": "stream",
     "text": [
      "(6615, 15)\n"
     ]
    }
   ],
   "execution_count": 24
  },
  {
   "metadata": {
    "ExecuteTime": {
     "end_time": "2025-05-05T03:34:39.027636Z",
     "start_time": "2025-05-05T03:34:39.021783Z"
    }
   },
   "cell_type": "code",
   "source": "print(bike_crash_detail.dtypes)",
   "id": "27f9d9e0dfaf1020",
   "outputs": [
    {
     "name": "stdout",
     "output_type": "stream",
     "text": [
      "CRASH_RECORD_ID                 object\n",
      "CRASH_DATE_EST_I                object\n",
      "CRASH_DATE              datetime64[ns]\n",
      "POSTED_SPEED_LIMIT               int64\n",
      "WEATHER_CONDITION               object\n",
      "LIGHTING_CONDITION              object\n",
      "FIRST_CRASH_TYPE                object\n",
      "TRAFFICWAY_TYPE                 object\n",
      "ALIGNMENT                       object\n",
      "ROADWAY_SURFACE_COND            object\n",
      "CRASH_TYPE                      object\n",
      "STREET_NAME                     object\n",
      "LATITUDE                       float64\n",
      "LONGITUDE                      float64\n",
      "LOCATION                        object\n",
      "dtype: object\n"
     ]
    }
   ],
   "execution_count": 25
  },
  {
   "metadata": {},
   "cell_type": "markdown",
   "source": "## In a crash, the scooter was loaned or owned",
   "id": "1499ad003ff001c5"
  },
  {
   "metadata": {},
   "cell_type": "markdown",
   "source": "For now, we don't know which scooter crashes were loaned or owned by the people itself. we will first match time, then match distance.",
   "id": "93234557136aea7c"
  },
  {
   "metadata": {},
   "cell_type": "markdown",
   "source": "### 5 min, 50 m",
   "id": "fcc4d3c3215aaced"
  },
  {
   "metadata": {},
   "cell_type": "markdown",
   "source": "if a loan record end within 5 minutes of a crash happened, then we calculate if they are within 50 meters, if so, we consider this loan record happened a crash.",
   "id": "6003ca8aef7d113c"
  },
  {
   "metadata": {
    "ExecuteTime": {
     "end_time": "2025-05-05T03:34:39.076149Z",
     "start_time": "2025-05-05T03:34:39.072726Z"
    }
   },
   "cell_type": "code",
   "source": [
    "time_window = pd.Timedelta(\"5min\")\n",
    "max_dist = 50"
   ],
   "id": "4129680e7106f7f8",
   "outputs": [],
   "execution_count": 26
  },
  {
   "metadata": {},
   "cell_type": "markdown",
   "source": "### Distance Calculating",
   "id": "88c5e002a331b6b9"
  },
  {
   "metadata": {
    "ExecuteTime": {
     "end_time": "2025-05-05T03:34:39.124954Z",
     "start_time": "2025-05-05T03:34:39.122439Z"
    }
   },
   "cell_type": "code",
   "source": [
    "def distance(lat1,lon1,lat2,lon2):\n",
    "    dy=(lat2-lat1)*111000\n",
    "    dx=(lon2-lon1)*111320\n",
    "    return np.hypot(dx,dy)"
   ],
   "id": "d00166b2cd27e6d3",
   "outputs": [],
   "execution_count": 27
  },
  {
   "metadata": {},
   "cell_type": "markdown",
   "source": "### Match the time and the distance",
   "id": "cb65d27194f0ebbf"
  },
  {
   "metadata": {
    "ExecuteTime": {
     "end_time": "2025-05-05T03:34:39.133586Z",
     "start_time": "2025-05-05T03:34:39.129959Z"
    }
   },
   "cell_type": "code",
   "source": [
    "def crash_label(rents:pd.DataFrame,crash,verbose=False)->dict:\n",
    "    window = ((rents['ended_at'] >= crash['CRASH_DATE'] - time_window) &(rents['ended_at'] <= crash['CRASH_DATE'] + time_window))\n",
    "    candidates=rents.loc[window]\n",
    "    if candidates.empty:\n",
    "        return {\"Mode\":\"owned\", \"Type\":None}\n",
    "    lat1,lon1=crash['LATITUDE'],crash['LONGITUDE']\n",
    "    for _, row in candidates.iterrows():\n",
    "        if distance(lat1, lon1, row['end_lat'], row['end_lng']) < max_dist:\n",
    "            return {\"Mode\": \"rental\", \"Type\": row['rideable_type']}\n",
    "    return {\"Mode\":\"owned\", \"Type\":None}"
   ],
   "id": "4692c57578161817",
   "outputs": [],
   "execution_count": 28
  },
  {
   "metadata": {
    "ExecuteTime": {
     "end_time": "2025-05-05T03:34:39.164445Z",
     "start_time": "2025-05-05T03:34:39.161350Z"
    }
   },
   "cell_type": "code",
   "source": [
    "# bike_crash_detail[\"Mode\"]=bike_crash_detail.apply(\n",
    "#     lambda row: crash_label(bike_loan_record, row),\n",
    "#     axis=1\n",
    "# )\n",
    "# bike_crash_detail.head()"
   ],
   "id": "7862ed8457d1c765",
   "outputs": [],
   "execution_count": 29
  },
  {
   "metadata": {
    "ExecuteTime": {
     "end_time": "2025-05-05T03:44:41.878152Z",
     "start_time": "2025-05-05T03:34:39.168647Z"
    }
   },
   "cell_type": "code",
   "source": [
    "bike_crash_detail[\"Label\"]=bike_crash_detail.apply(\n",
    "    lambda row: crash_label(bike_loan_record, row),\n",
    "    axis=1\n",
    ")\n",
    "bike_crash_detail.head()"
   ],
   "id": "6364eeef270015fb",
   "outputs": [
    {
     "data": {
      "text/plain": [
       "                                          CRASH_RECORD_ID CRASH_DATE_EST_I  \\\n",
       "331043  643b568d916695a76cd7dd325d61c1443fc41de45ca4e9...              NaN   \n",
       "330826  8585c16a4c6a0a604a861e3b1851e2910eceb11ee67c3a...              NaN   \n",
       "330696  97ceead52b4941c16066be426ebdb832c8a9cd2d043fce...              NaN   \n",
       "330016  5afe61b667b95e90e60949583e63de62a4e7935a3879e6...                Y   \n",
       "329740  b9bcb08fc822afd9bc315b015e1ee3379b2b4a9b6ef784...              NaN   \n",
       "\n",
       "                CRASH_DATE  POSTED_SPEED_LIMIT WEATHER_CONDITION  \\\n",
       "331043 2022-01-01 15:33:00                  30              SNOW   \n",
       "330826 2022-01-02 15:45:00                  20             CLEAR   \n",
       "330696 2022-01-03 08:50:00                  35             CLEAR   \n",
       "330016 2022-01-06 01:00:00                  15             CLEAR   \n",
       "329740 2022-01-07 08:10:00                  30             CLEAR   \n",
       "\n",
       "       LIGHTING_CONDITION FIRST_CRASH_TYPE                  TRAFFICWAY_TYPE  \\\n",
       "331043           DAYLIGHT     PEDALCYCLIST                      NOT DIVIDED   \n",
       "330826           DAYLIGHT     PEDALCYCLIST                         FOUR WAY   \n",
       "330696           DAYLIGHT          HEAD ON                            OTHER   \n",
       "330016           DARKNESS     FIXED OBJECT                            ALLEY   \n",
       "329740           DAYLIGHT     PEDALCYCLIST  DIVIDED - W/MEDIAN (NOT RAISED)   \n",
       "\n",
       "                 ALIGNMENT ROADWAY_SURFACE_COND  \\\n",
       "331043  STRAIGHT AND LEVEL        SNOW OR SLUSH   \n",
       "330826  STRAIGHT AND LEVEL                  DRY   \n",
       "330696  STRAIGHT AND LEVEL        SNOW OR SLUSH   \n",
       "330016  STRAIGHT AND LEVEL                  ICE   \n",
       "329740  STRAIGHT AND LEVEL                  DRY   \n",
       "\n",
       "                              CRASH_TYPE STREET_NAME   LATITUDE  LONGITUDE  \\\n",
       "331043  INJURY AND / OR TOW DUE TO CRASH    BROADWAY  41.946385 -87.646525   \n",
       "330826            NO INJURY / DRIVE AWAY   THROOP ST  41.713951 -87.655314   \n",
       "330696            NO INJURY / DRIVE AWAY   GRAND AVE  41.910981 -87.738882   \n",
       "330016            NO INJURY / DRIVE AWAY   NELSON ST  41.937045 -87.670570   \n",
       "329740  INJURY AND / OR TOW DUE TO CRASH   DAMEN AVE  41.892651 -87.677107   \n",
       "\n",
       "                                        LOCATION  \\\n",
       "331043  POINT (-87.646524863347 41.946384651554)   \n",
       "330826  POINT (-87.655313564169 41.713951249155)   \n",
       "330696  POINT (-87.738882422621 41.910981054662)   \n",
       "330016   POINT (-87.67057014988 41.937045180321)   \n",
       "329740  POINT (-87.677106587578 41.892651216444)   \n",
       "\n",
       "                                  Label  \n",
       "331043  {'Mode': 'owned', 'Type': None}  \n",
       "330826  {'Mode': 'owned', 'Type': None}  \n",
       "330696  {'Mode': 'owned', 'Type': None}  \n",
       "330016  {'Mode': 'owned', 'Type': None}  \n",
       "329740  {'Mode': 'owned', 'Type': None}  "
      ],
      "text/html": [
       "<div>\n",
       "<style scoped>\n",
       "    .dataframe tbody tr th:only-of-type {\n",
       "        vertical-align: middle;\n",
       "    }\n",
       "\n",
       "    .dataframe tbody tr th {\n",
       "        vertical-align: top;\n",
       "    }\n",
       "\n",
       "    .dataframe thead th {\n",
       "        text-align: right;\n",
       "    }\n",
       "</style>\n",
       "<table border=\"1\" class=\"dataframe\">\n",
       "  <thead>\n",
       "    <tr style=\"text-align: right;\">\n",
       "      <th></th>\n",
       "      <th>CRASH_RECORD_ID</th>\n",
       "      <th>CRASH_DATE_EST_I</th>\n",
       "      <th>CRASH_DATE</th>\n",
       "      <th>POSTED_SPEED_LIMIT</th>\n",
       "      <th>WEATHER_CONDITION</th>\n",
       "      <th>LIGHTING_CONDITION</th>\n",
       "      <th>FIRST_CRASH_TYPE</th>\n",
       "      <th>TRAFFICWAY_TYPE</th>\n",
       "      <th>ALIGNMENT</th>\n",
       "      <th>ROADWAY_SURFACE_COND</th>\n",
       "      <th>CRASH_TYPE</th>\n",
       "      <th>STREET_NAME</th>\n",
       "      <th>LATITUDE</th>\n",
       "      <th>LONGITUDE</th>\n",
       "      <th>LOCATION</th>\n",
       "      <th>Label</th>\n",
       "    </tr>\n",
       "  </thead>\n",
       "  <tbody>\n",
       "    <tr>\n",
       "      <th>331043</th>\n",
       "      <td>643b568d916695a76cd7dd325d61c1443fc41de45ca4e9...</td>\n",
       "      <td>NaN</td>\n",
       "      <td>2022-01-01 15:33:00</td>\n",
       "      <td>30</td>\n",
       "      <td>SNOW</td>\n",
       "      <td>DAYLIGHT</td>\n",
       "      <td>PEDALCYCLIST</td>\n",
       "      <td>NOT DIVIDED</td>\n",
       "      <td>STRAIGHT AND LEVEL</td>\n",
       "      <td>SNOW OR SLUSH</td>\n",
       "      <td>INJURY AND / OR TOW DUE TO CRASH</td>\n",
       "      <td>BROADWAY</td>\n",
       "      <td>41.946385</td>\n",
       "      <td>-87.646525</td>\n",
       "      <td>POINT (-87.646524863347 41.946384651554)</td>\n",
       "      <td>{'Mode': 'owned', 'Type': None}</td>\n",
       "    </tr>\n",
       "    <tr>\n",
       "      <th>330826</th>\n",
       "      <td>8585c16a4c6a0a604a861e3b1851e2910eceb11ee67c3a...</td>\n",
       "      <td>NaN</td>\n",
       "      <td>2022-01-02 15:45:00</td>\n",
       "      <td>20</td>\n",
       "      <td>CLEAR</td>\n",
       "      <td>DAYLIGHT</td>\n",
       "      <td>PEDALCYCLIST</td>\n",
       "      <td>FOUR WAY</td>\n",
       "      <td>STRAIGHT AND LEVEL</td>\n",
       "      <td>DRY</td>\n",
       "      <td>NO INJURY / DRIVE AWAY</td>\n",
       "      <td>THROOP ST</td>\n",
       "      <td>41.713951</td>\n",
       "      <td>-87.655314</td>\n",
       "      <td>POINT (-87.655313564169 41.713951249155)</td>\n",
       "      <td>{'Mode': 'owned', 'Type': None}</td>\n",
       "    </tr>\n",
       "    <tr>\n",
       "      <th>330696</th>\n",
       "      <td>97ceead52b4941c16066be426ebdb832c8a9cd2d043fce...</td>\n",
       "      <td>NaN</td>\n",
       "      <td>2022-01-03 08:50:00</td>\n",
       "      <td>35</td>\n",
       "      <td>CLEAR</td>\n",
       "      <td>DAYLIGHT</td>\n",
       "      <td>HEAD ON</td>\n",
       "      <td>OTHER</td>\n",
       "      <td>STRAIGHT AND LEVEL</td>\n",
       "      <td>SNOW OR SLUSH</td>\n",
       "      <td>NO INJURY / DRIVE AWAY</td>\n",
       "      <td>GRAND AVE</td>\n",
       "      <td>41.910981</td>\n",
       "      <td>-87.738882</td>\n",
       "      <td>POINT (-87.738882422621 41.910981054662)</td>\n",
       "      <td>{'Mode': 'owned', 'Type': None}</td>\n",
       "    </tr>\n",
       "    <tr>\n",
       "      <th>330016</th>\n",
       "      <td>5afe61b667b95e90e60949583e63de62a4e7935a3879e6...</td>\n",
       "      <td>Y</td>\n",
       "      <td>2022-01-06 01:00:00</td>\n",
       "      <td>15</td>\n",
       "      <td>CLEAR</td>\n",
       "      <td>DARKNESS</td>\n",
       "      <td>FIXED OBJECT</td>\n",
       "      <td>ALLEY</td>\n",
       "      <td>STRAIGHT AND LEVEL</td>\n",
       "      <td>ICE</td>\n",
       "      <td>NO INJURY / DRIVE AWAY</td>\n",
       "      <td>NELSON ST</td>\n",
       "      <td>41.937045</td>\n",
       "      <td>-87.670570</td>\n",
       "      <td>POINT (-87.67057014988 41.937045180321)</td>\n",
       "      <td>{'Mode': 'owned', 'Type': None}</td>\n",
       "    </tr>\n",
       "    <tr>\n",
       "      <th>329740</th>\n",
       "      <td>b9bcb08fc822afd9bc315b015e1ee3379b2b4a9b6ef784...</td>\n",
       "      <td>NaN</td>\n",
       "      <td>2022-01-07 08:10:00</td>\n",
       "      <td>30</td>\n",
       "      <td>CLEAR</td>\n",
       "      <td>DAYLIGHT</td>\n",
       "      <td>PEDALCYCLIST</td>\n",
       "      <td>DIVIDED - W/MEDIAN (NOT RAISED)</td>\n",
       "      <td>STRAIGHT AND LEVEL</td>\n",
       "      <td>DRY</td>\n",
       "      <td>INJURY AND / OR TOW DUE TO CRASH</td>\n",
       "      <td>DAMEN AVE</td>\n",
       "      <td>41.892651</td>\n",
       "      <td>-87.677107</td>\n",
       "      <td>POINT (-87.677106587578 41.892651216444)</td>\n",
       "      <td>{'Mode': 'owned', 'Type': None}</td>\n",
       "    </tr>\n",
       "  </tbody>\n",
       "</table>\n",
       "</div>"
      ]
     },
     "execution_count": 30,
     "metadata": {},
     "output_type": "execute_result"
    }
   ],
   "execution_count": 30
  },
  {
   "metadata": {},
   "cell_type": "markdown",
   "source": "Now, we know every crash whether the bike was rental.",
   "id": "1f47f83e8464851a"
  },
  {
   "metadata": {
    "ExecuteTime": {
     "end_time": "2025-05-05T03:50:15.231743Z",
     "start_time": "2025-05-05T03:50:15.225399Z"
    }
   },
   "cell_type": "code",
   "source": "print(bike_crash_detail[\"Label\"].value_counts())",
   "id": "d3c7c7f341d39dee",
   "outputs": [
    {
     "name": "stdout",
     "output_type": "stream",
     "text": [
      "Label\n",
      "{'Mode': 'owned', 'Type': None}                   6493\n",
      "{'Mode': 'rental', 'Type': 'classic_bike'}          66\n",
      "{'Mode': 'rental', 'Type': 'electric_bike'}         52\n",
      "{'Mode': 'rental', 'Type': 'docked_bike'}            2\n",
      "{'Mode': 'rental', 'Type': 'electric_scooter'}       2\n",
      "Name: count, dtype: int64\n"
     ]
    }
   ],
   "execution_count": 33
  },
  {
   "metadata": {},
   "cell_type": "markdown",
   "source": "## Analysis",
   "id": "4231e4ccdd130023"
  },
  {
   "metadata": {},
   "cell_type": "markdown",
   "source": "### Preparation",
   "id": "bbfbbc47dcb25dfa"
  },
  {
   "metadata": {},
   "cell_type": "markdown",
   "source": "Crashes that bike are owned:",
   "id": "56c45c64e6e545b1"
  },
  {
   "metadata": {
    "ExecuteTime": {
     "end_time": "2025-05-05T03:50:24.895088Z",
     "start_time": "2025-05-05T03:50:24.883042Z"
    }
   },
   "cell_type": "code",
   "source": [
    "owned_crash=bike_crash_detail[bike_crash_detail['Label'].apply(lambda x:x['Mode'] == 'owned')].copy()\n",
    "owned_crash.head"
   ],
   "id": "beb54a89de611477",
   "outputs": [
    {
     "data": {
      "text/plain": [
       "<bound method NDFrame.head of                                           CRASH_RECORD_ID CRASH_DATE_EST_I  \\\n",
       "331043  643b568d916695a76cd7dd325d61c1443fc41de45ca4e9...              NaN   \n",
       "330826  8585c16a4c6a0a604a861e3b1851e2910eceb11ee67c3a...              NaN   \n",
       "330696  97ceead52b4941c16066be426ebdb832c8a9cd2d043fce...              NaN   \n",
       "330016  5afe61b667b95e90e60949583e63de62a4e7935a3879e6...                Y   \n",
       "329740  b9bcb08fc822afd9bc315b015e1ee3379b2b4a9b6ef784...              NaN   \n",
       "...                                                   ...              ...   \n",
       "389     88196a2e082d2721b0ebea537fc1635126e292bec7fcbc...                Y   \n",
       "356     540b3c613e32741b09c07b6260be03d4177b34058950a3...              NaN   \n",
       "282     b34303ecdd4a5fd116f5e26f140eb7561449a748bc53dc...              NaN   \n",
       "261     0d5bea8b2b8472684d78d55e882df0faecf6d29a46127d...              NaN   \n",
       "111     9e0723abaf8b396b45f1df1446fcb8b8a513c4a2877e85...              NaN   \n",
       "\n",
       "                CRASH_DATE  POSTED_SPEED_LIMIT WEATHER_CONDITION  \\\n",
       "331043 2022-01-01 15:33:00                  30              SNOW   \n",
       "330826 2022-01-02 15:45:00                  20             CLEAR   \n",
       "330696 2022-01-03 08:50:00                  35             CLEAR   \n",
       "330016 2022-01-06 01:00:00                  15             CLEAR   \n",
       "329740 2022-01-07 08:10:00                  30             CLEAR   \n",
       "...                    ...                 ...               ...   \n",
       "389    2024-12-30 16:57:00                  30             CLEAR   \n",
       "356    2024-12-30 18:18:00                  20             CLEAR   \n",
       "282    2024-12-31 06:25:00                  30              RAIN   \n",
       "261    2024-12-31 08:53:00                  30              RAIN   \n",
       "111    2024-12-31 16:40:00                  30             CLEAR   \n",
       "\n",
       "            LIGHTING_CONDITION FIRST_CRASH_TYPE  \\\n",
       "331043                DAYLIGHT     PEDALCYCLIST   \n",
       "330826                DAYLIGHT     PEDALCYCLIST   \n",
       "330696                DAYLIGHT          HEAD ON   \n",
       "330016                DARKNESS     FIXED OBJECT   \n",
       "329740                DAYLIGHT     PEDALCYCLIST   \n",
       "...                        ...              ...   \n",
       "389                   DAYLIGHT     PEDALCYCLIST   \n",
       "356     DARKNESS, LIGHTED ROAD     PEDALCYCLIST   \n",
       "282     DARKNESS, LIGHTED ROAD     PEDALCYCLIST   \n",
       "261                   DAYLIGHT     PEDALCYCLIST   \n",
       "111     DARKNESS, LIGHTED ROAD     PEDALCYCLIST   \n",
       "\n",
       "                        TRAFFICWAY_TYPE           ALIGNMENT  \\\n",
       "331043                      NOT DIVIDED  STRAIGHT AND LEVEL   \n",
       "330826                         FOUR WAY  STRAIGHT AND LEVEL   \n",
       "330696                            OTHER  STRAIGHT AND LEVEL   \n",
       "330016                            ALLEY  STRAIGHT AND LEVEL   \n",
       "329740  DIVIDED - W/MEDIAN (NOT RAISED)  STRAIGHT AND LEVEL   \n",
       "...                                 ...                 ...   \n",
       "389                            FOUR WAY  STRAIGHT AND LEVEL   \n",
       "356                             ONE-WAY  STRAIGHT AND LEVEL   \n",
       "282                            FOUR WAY  STRAIGHT AND LEVEL   \n",
       "261                             UNKNOWN  STRAIGHT AND LEVEL   \n",
       "111                             ONE-WAY  STRAIGHT AND LEVEL   \n",
       "\n",
       "       ROADWAY_SURFACE_COND                        CRASH_TYPE   STREET_NAME  \\\n",
       "331043        SNOW OR SLUSH  INJURY AND / OR TOW DUE TO CRASH      BROADWAY   \n",
       "330826                  DRY            NO INJURY / DRIVE AWAY     THROOP ST   \n",
       "330696        SNOW OR SLUSH            NO INJURY / DRIVE AWAY     GRAND AVE   \n",
       "330016                  ICE            NO INJURY / DRIVE AWAY     NELSON ST   \n",
       "329740                  DRY  INJURY AND / OR TOW DUE TO CRASH     DAMEN AVE   \n",
       "...                     ...                               ...           ...   \n",
       "389                     DRY  INJURY AND / OR TOW DUE TO CRASH       18TH ST   \n",
       "356                     DRY  INJURY AND / OR TOW DUE TO CRASH  BERENICE AVE   \n",
       "282                     WET  INJURY AND / OR TOW DUE TO CRASH   KENMORE AVE   \n",
       "261                     WET            NO INJURY / DRIVE AWAY  RIDGEWAY AVE   \n",
       "111                     DRY  INJURY AND / OR TOW DUE TO CRASH     MEADE AVE   \n",
       "\n",
       "         LATITUDE  LONGITUDE                                  LOCATION  \\\n",
       "331043  41.946385 -87.646525  POINT (-87.646524863347 41.946384651554)   \n",
       "330826  41.713951 -87.655314  POINT (-87.655313564169 41.713951249155)   \n",
       "330696  41.910981 -87.738882  POINT (-87.738882422621 41.910981054662)   \n",
       "330016  41.937045 -87.670570   POINT (-87.67057014988 41.937045180321)   \n",
       "329740  41.892651 -87.677107  POINT (-87.677106587578 41.892651216444)   \n",
       "...           ...        ...                                       ...   \n",
       "389     41.857945 -87.663712  POINT (-87.663712101389 41.857945166904)   \n",
       "356     41.950423 -87.776558  POINT (-87.776557899455 41.950423326225)   \n",
       "282     41.976463 -87.656566  POINT (-87.656566023042 41.976463062876)   \n",
       "261     41.894391 -87.719794   POINT (-87.71979403941 41.894390910476)   \n",
       "111     41.791949 -87.774334  POINT (-87.774334287364 41.791949487206)   \n",
       "\n",
       "                                  Label  \n",
       "331043  {'Mode': 'owned', 'Type': None}  \n",
       "330826  {'Mode': 'owned', 'Type': None}  \n",
       "330696  {'Mode': 'owned', 'Type': None}  \n",
       "330016  {'Mode': 'owned', 'Type': None}  \n",
       "329740  {'Mode': 'owned', 'Type': None}  \n",
       "...                                 ...  \n",
       "389     {'Mode': 'owned', 'Type': None}  \n",
       "356     {'Mode': 'owned', 'Type': None}  \n",
       "282     {'Mode': 'owned', 'Type': None}  \n",
       "261     {'Mode': 'owned', 'Type': None}  \n",
       "111     {'Mode': 'owned', 'Type': None}  \n",
       "\n",
       "[6493 rows x 16 columns]>"
      ]
     },
     "execution_count": 35,
     "metadata": {},
     "output_type": "execute_result"
    }
   ],
   "execution_count": 35
  },
  {
   "metadata": {},
   "cell_type": "markdown",
   "source": "Crashes that bike are rented:",
   "id": "eecc97225e159d29"
  },
  {
   "metadata": {
    "ExecuteTime": {
     "end_time": "2025-05-05T04:04:32.271023Z",
     "start_time": "2025-05-05T04:04:32.261994Z"
    }
   },
   "cell_type": "code",
   "source": [
    "rental_crash=bike_crash_detail[bike_crash_detail['Label'].apply(lambda x:x['Mode'] == 'rental')].copy()\n",
    "rental_crash.head"
   ],
   "id": "d1a5925ca79dbd13",
   "outputs": [
    {
     "data": {
      "text/plain": [
       "<bound method NDFrame.head of                                           CRASH_RECORD_ID CRASH_DATE_EST_I  \\\n",
       "322902  d1969272e6827116f3f8446357cb14e77cb62d958e9142...              NaN   \n",
       "313648  b185052fe7cbc7a52dd66f9c1f349aeea8ef71daf15940...              NaN   \n",
       "309553  2c908a66633958a7f92f48a7f19b2b0132590d29481335...              NaN   \n",
       "302670  b55d9d81bec4e9b73fc6d4a2c77ea777041d12f5201eb9...              NaN   \n",
       "300558  383eb828395b76bcaefd4038021be5ab84cad832e250b1...              NaN   \n",
       "...                                                   ...              ...   \n",
       "14300   b47c106a4b28644815a59541f3b1fd0a8484b59088dd59...              NaN   \n",
       "14177   c3d5883f6c8396c23122de81f6cfee2e7d86ca8b203fcc...              NaN   \n",
       "11666   460149d0258509643a4d5ee0cea60a35f88e18c8db2c75...              NaN   \n",
       "9461    2f2d19debd9560376fbd92e1449474812e997c39d86539...              NaN   \n",
       "7293    8d47b3a2ded783baa259ec9e4b56e89fdd327ac6d6e483...              NaN   \n",
       "\n",
       "                CRASH_DATE  POSTED_SPEED_LIMIT WEATHER_CONDITION  \\\n",
       "322902 2022-02-01 11:15:00                  30              RAIN   \n",
       "313648 2022-03-06 11:40:00                  30             CLEAR   \n",
       "309553 2022-03-20 20:30:00                  30             CLEAR   \n",
       "302670 2022-04-14 14:25:00                  30             CLEAR   \n",
       "300558 2022-04-22 17:51:00                  25             CLEAR   \n",
       "...                    ...                 ...               ...   \n",
       "14300  2024-11-12 12:14:00                  30             CLEAR   \n",
       "14177  2024-11-12 17:35:00                  30             CLEAR   \n",
       "11666  2024-11-20 18:30:00                  30              SNOW   \n",
       "9461   2024-11-27 18:00:00                  30           UNKNOWN   \n",
       "7293   2024-12-06 08:55:00                  20             CLEAR   \n",
       "\n",
       "            LIGHTING_CONDITION FIRST_CRASH_TYPE             TRAFFICWAY_TYPE  \\\n",
       "322902                DAYLIGHT     PEDALCYCLIST                 NOT DIVIDED   \n",
       "313648                DAYLIGHT     PEDALCYCLIST                 NOT DIVIDED   \n",
       "309553                DARKNESS     PEDALCYCLIST                 NOT DIVIDED   \n",
       "302670                DAYLIGHT     PEDALCYCLIST                 NOT DIVIDED   \n",
       "300558                    DUSK     PEDALCYCLIST  DIVIDED - W/MEDIAN BARRIER   \n",
       "...                        ...              ...                         ...   \n",
       "14300                 DAYLIGHT     PEDALCYCLIST                     ONE-WAY   \n",
       "14177   DARKNESS, LIGHTED ROAD     PEDALCYCLIST                 NOT DIVIDED   \n",
       "11666   DARKNESS, LIGHTED ROAD     PEDALCYCLIST                    FOUR WAY   \n",
       "9461                   UNKNOWN     PEDALCYCLIST                 NOT DIVIDED   \n",
       "7293                  DAYLIGHT     PEDALCYCLIST  DIVIDED - W/MEDIAN BARRIER   \n",
       "\n",
       "                 ALIGNMENT ROADWAY_SURFACE_COND  \\\n",
       "322902  STRAIGHT AND LEVEL                  WET   \n",
       "313648  STRAIGHT AND LEVEL                  DRY   \n",
       "309553  STRAIGHT AND LEVEL              UNKNOWN   \n",
       "302670  STRAIGHT AND LEVEL                  DRY   \n",
       "300558  STRAIGHT AND LEVEL                  WET   \n",
       "...                    ...                  ...   \n",
       "14300   STRAIGHT AND LEVEL                  DRY   \n",
       "14177   STRAIGHT AND LEVEL                  DRY   \n",
       "11666   STRAIGHT AND LEVEL                  WET   \n",
       "9461    STRAIGHT AND LEVEL                  DRY   \n",
       "7293    STRAIGHT AND LEVEL                  DRY   \n",
       "\n",
       "                              CRASH_TYPE     STREET_NAME   LATITUDE  \\\n",
       "322902  INJURY AND / OR TOW DUE TO CRASH   SOUTHPORT AVE  41.943990   \n",
       "313648  INJURY AND / OR TOW DUE TO CRASH        WELLS ST  41.903311   \n",
       "309553  INJURY AND / OR TOW DUE TO CRASH  IRVING PARK RD  41.954597   \n",
       "302670  INJURY AND / OR TOW DUE TO CRASH   SOUTHPORT AVE  41.943370   \n",
       "300558  INJURY AND / OR TOW DUE TO CRASH     RANDOLPH ST  41.884180   \n",
       "...                                  ...             ...        ...   \n",
       "14300   INJURY AND / OR TOW DUE TO CRASH     DEARBORN ST  41.884446   \n",
       "14177             NO INJURY / DRIVE AWAY   SOUTHPORT AVE  41.943846   \n",
       "11666             NO INJURY / DRIVE AWAY     SEDGWICK ST  41.922004   \n",
       "9461    INJURY AND / OR TOW DUE TO CRASH       RIDGE AVE  41.989677   \n",
       "7293    INJURY AND / OR TOW DUE TO CRASH       MORGAN ST  41.871699   \n",
       "\n",
       "        LONGITUDE                                  LOCATION  \\\n",
       "322902 -87.664080  POINT (-87.664079996629 41.943990250919)   \n",
       "313648 -87.634606  POINT (-87.634605802299 41.903311130583)   \n",
       "309553 -87.654627  POINT (-87.654627247399 41.954596922053)   \n",
       "302670 -87.664063  POINT (-87.664063104114 41.943370200204)   \n",
       "300558 -87.654111  POINT (-87.654111351842 41.884179966037)   \n",
       "...           ...                                       ...   \n",
       "14300  -87.629602  POINT (-87.629602188986 41.884446079412)   \n",
       "14177  -87.663782  POINT (-87.663781934613 41.943845601126)   \n",
       "11666  -87.639085    POINT (-87.63908479494 41.92200373395)   \n",
       "9461   -87.670207   POINT (-87.670206816488 41.98967693564)   \n",
       "7293   -87.651030    POINT (-87.651030096835 41.8716989836)   \n",
       "\n",
       "                                              Label  \n",
       "322902   {'Mode': 'rental', 'Type': 'classic_bike'}  \n",
       "313648   {'Mode': 'rental', 'Type': 'classic_bike'}  \n",
       "309553  {'Mode': 'rental', 'Type': 'electric_bike'}  \n",
       "302670  {'Mode': 'rental', 'Type': 'electric_bike'}  \n",
       "300558  {'Mode': 'rental', 'Type': 'electric_bike'}  \n",
       "...                                             ...  \n",
       "14300    {'Mode': 'rental', 'Type': 'classic_bike'}  \n",
       "14177   {'Mode': 'rental', 'Type': 'electric_bike'}  \n",
       "11666   {'Mode': 'rental', 'Type': 'electric_bike'}  \n",
       "9461    {'Mode': 'rental', 'Type': 'electric_bike'}  \n",
       "7293     {'Mode': 'rental', 'Type': 'classic_bike'}  \n",
       "\n",
       "[122 rows x 16 columns]>"
      ]
     },
     "execution_count": 45,
     "metadata": {},
     "output_type": "execute_result"
    }
   ],
   "execution_count": 45
  },
  {
   "metadata": {},
   "cell_type": "markdown",
   "source": "Information of people who involved in crashes and their bike are RENTED:",
   "id": "bbf6897ea0ac520b"
  },
  {
   "metadata": {
    "ExecuteTime": {
     "end_time": "2025-05-05T04:32:42.984429Z",
     "start_time": "2025-05-05T04:32:42.977333Z"
    }
   },
   "cell_type": "code",
   "source": [
    "crash_rental_people = crashes_bike[crashes_bike['CRASH_RECORD_ID'].isin(rental_crash['CRASH_RECORD_ID'])].copy()\n",
    "crash_rental_people.head"
   ],
   "id": "e9c252f39cec7609",
   "outputs": [
    {
     "data": {
      "text/plain": [
       "<bound method NDFrame.head of      PERSON_ID PERSON_TYPE                                    CRASH_RECORD_ID  \\\n",
       "97    O1963042     BICYCLE  8d47b3a2ded783baa259ec9e4b56e89fdd327ac6d6e483...   \n",
       "127   O1963987     BICYCLE  2f2d19debd9560376fbd92e1449474812e997c39d86539...   \n",
       "152   O1953595     BICYCLE  460149d0258509643a4d5ee0cea60a35f88e18c8db2c75...   \n",
       "194   O1947983     BICYCLE  c3d5883f6c8396c23122de81f6cfee2e7d86ca8b203fcc...   \n",
       "197   O1947727     BICYCLE  b47c106a4b28644815a59541f3b1fd0a8484b59088dd59...   \n",
       "...        ...         ...                                                ...   \n",
       "6457  O1321864     BICYCLE  383eb828395b76bcaefd4038021be5ab84cad832e250b1...   \n",
       "6481  O1317272     BICYCLE  b55d9d81bec4e9b73fc6d4a2c77ea777041d12f5201eb9...   \n",
       "6554  O1304425     BICYCLE  2c908a66633958a7f92f48a7f19b2b0132590d29481335...   \n",
       "6596  O1293981     BICYCLE  b185052fe7cbc7a52dd66f9c1f349aeea8ef71daf15940...   \n",
       "6652  O1273617     BICYCLE  d1969272e6827116f3f8446357cb14e77cb62d958e9142...   \n",
       "\n",
       "                  CRASH_DATE SEX   AGE  \\\n",
       "97    12/06/2024 08:55:00 AM   M  32.0   \n",
       "127   11/27/2024 06:00:00 PM   M   NaN   \n",
       "152   11/20/2024 06:30:00 PM   M   NaN   \n",
       "194   11/12/2024 05:35:00 PM   M  26.0   \n",
       "197   11/12/2024 12:14:00 PM   M  26.0   \n",
       "...                      ...  ..   ...   \n",
       "6457  04/22/2022 05:51:00 PM   M  27.0   \n",
       "6481  04/14/2022 02:25:00 PM   F  29.0   \n",
       "6554  03/20/2022 08:30:00 PM   F  48.0   \n",
       "6596  03/06/2022 11:40:00 AM   M   NaN   \n",
       "6652  02/01/2022 11:15:00 AM   M  82.0   \n",
       "\n",
       "                                SAFETY_EQUIPMENT  \\\n",
       "97    BICYCLE HELMET (PEDACYCLIST INVOLVED ONLY)   \n",
       "127   BICYCLE HELMET (PEDACYCLIST INVOLVED ONLY)   \n",
       "152                              HELMET NOT USED   \n",
       "194                              HELMET NOT USED   \n",
       "197                              HELMET NOT USED   \n",
       "...                                          ...   \n",
       "6457  BICYCLE HELMET (PEDACYCLIST INVOLVED ONLY)   \n",
       "6481  BICYCLE HELMET (PEDACYCLIST INVOLVED ONLY)   \n",
       "6554  BICYCLE HELMET (PEDACYCLIST INVOLVED ONLY)   \n",
       "6596  BICYCLE HELMET (PEDACYCLIST INVOLVED ONLY)   \n",
       "6652  BICYCLE HELMET (PEDACYCLIST INVOLVED ONLY)   \n",
       "\n",
       "                               PEDPEDAL_ACTION PEDPEDAL_LOCATION  \\\n",
       "97                                WITH TRAFFIC        IN ROADWAY   \n",
       "127                               WITH TRAFFIC        IN ROADWAY   \n",
       "152                     CROSSING - WITH SIGNAL      IN CROSSWALK   \n",
       "194                               WITH TRAFFIC         BIKE LANE   \n",
       "197                               OTHER ACTION         BIKE LANE   \n",
       "...                                        ...               ...   \n",
       "6457  CROSSING - NO CONTROLS (AT INTERSECTION)      IN CROSSWALK   \n",
       "6481                              TURNING LEFT        IN ROADWAY   \n",
       "6554                              WITH TRAFFIC        IN ROADWAY   \n",
       "6596                              WITH TRAFFIC        IN ROADWAY   \n",
       "6652                     INTOXICATED PED/PEDAL         BIKE LANE   \n",
       "\n",
       "            BAC_RESULT  \n",
       "97    TEST NOT OFFERED  \n",
       "127   TEST NOT OFFERED  \n",
       "152   TEST NOT OFFERED  \n",
       "194   TEST NOT OFFERED  \n",
       "197   TEST NOT OFFERED  \n",
       "...                ...  \n",
       "6457  TEST NOT OFFERED  \n",
       "6481  TEST NOT OFFERED  \n",
       "6554  TEST NOT OFFERED  \n",
       "6596  TEST NOT OFFERED  \n",
       "6652  TEST NOT OFFERED  \n",
       "\n",
       "[122 rows x 10 columns]>"
      ]
     },
     "execution_count": 75,
     "metadata": {},
     "output_type": "execute_result"
    }
   ],
   "execution_count": 75
  },
  {
   "metadata": {},
   "cell_type": "markdown",
   "source": "information of people who involved in crashes and their bike are OWNED",
   "id": "fe354a78e851982d"
  },
  {
   "metadata": {
    "ExecuteTime": {
     "end_time": "2025-05-05T04:38:22.581253Z",
     "start_time": "2025-05-05T04:38:22.571552Z"
    }
   },
   "cell_type": "code",
   "source": [
    "crash_owned_people = crashes_bike[crashes_bike['CRASH_RECORD_ID'].isin(owned_crash['CRASH_RECORD_ID'])].copy()\n",
    "crash_owned_people.head()"
   ],
   "id": "2e22c49bbc2dd2e",
   "outputs": [
    {
     "data": {
      "text/plain": [
       "  PERSON_ID PERSON_TYPE                                    CRASH_RECORD_ID  \\\n",
       "0  O1985546     BICYCLE  9e0723abaf8b396b45f1df1446fcb8b8a513c4a2877e85...   \n",
       "1  O1981069     BICYCLE  0d5bea8b2b8472684d78d55e882df0faecf6d29a46127d...   \n",
       "2  O1978668     BICYCLE  b34303ecdd4a5fd116f5e26f140eb7561449a748bc53dc...   \n",
       "3  O1978485     BICYCLE  540b3c613e32741b09c07b6260be03d4177b34058950a3...   \n",
       "4  O1978464     BICYCLE  88196a2e082d2721b0ebea537fc1635126e292bec7fcbc...   \n",
       "\n",
       "               CRASH_DATE SEX   AGE  \\\n",
       "0  12/31/2024 04:40:00 PM   M   NaN   \n",
       "1  12/31/2024 08:53:00 AM   M  21.0   \n",
       "2  12/31/2024 06:25:00 AM   M  61.0   \n",
       "3  12/30/2024 06:18:00 PM   F  56.0   \n",
       "4  12/30/2024 04:57:00 PM   F  49.0   \n",
       "\n",
       "                             SAFETY_EQUIPMENT  \\\n",
       "0                             HELMET NOT USED   \n",
       "1                             HELMET NOT USED   \n",
       "2  BICYCLE HELMET (PEDACYCLIST INVOLVED ONLY)   \n",
       "3                             HELMET NOT USED   \n",
       "4                             HELMET NOT USED   \n",
       "\n",
       "                            PEDPEDAL_ACTION PEDPEDAL_LOCATION  \\\n",
       "0                              OTHER ACTION    NOT IN ROADWAY   \n",
       "1                              WITH TRAFFIC        IN ROADWAY   \n",
       "2                              OTHER ACTION        IN ROADWAY   \n",
       "3  CROSSING - NO CONTROLS (AT INTERSECTION)      IN CROSSWALK   \n",
       "4                    CROSSING - WITH SIGNAL           BIKEWAY   \n",
       "\n",
       "         BAC_RESULT  \n",
       "0  TEST NOT OFFERED  \n",
       "1  TEST NOT OFFERED  \n",
       "2  TEST NOT OFFERED  \n",
       "3  TEST NOT OFFERED  \n",
       "4  TEST NOT OFFERED  "
      ],
      "text/html": [
       "<div>\n",
       "<style scoped>\n",
       "    .dataframe tbody tr th:only-of-type {\n",
       "        vertical-align: middle;\n",
       "    }\n",
       "\n",
       "    .dataframe tbody tr th {\n",
       "        vertical-align: top;\n",
       "    }\n",
       "\n",
       "    .dataframe thead th {\n",
       "        text-align: right;\n",
       "    }\n",
       "</style>\n",
       "<table border=\"1\" class=\"dataframe\">\n",
       "  <thead>\n",
       "    <tr style=\"text-align: right;\">\n",
       "      <th></th>\n",
       "      <th>PERSON_ID</th>\n",
       "      <th>PERSON_TYPE</th>\n",
       "      <th>CRASH_RECORD_ID</th>\n",
       "      <th>CRASH_DATE</th>\n",
       "      <th>SEX</th>\n",
       "      <th>AGE</th>\n",
       "      <th>SAFETY_EQUIPMENT</th>\n",
       "      <th>PEDPEDAL_ACTION</th>\n",
       "      <th>PEDPEDAL_LOCATION</th>\n",
       "      <th>BAC_RESULT</th>\n",
       "    </tr>\n",
       "  </thead>\n",
       "  <tbody>\n",
       "    <tr>\n",
       "      <th>0</th>\n",
       "      <td>O1985546</td>\n",
       "      <td>BICYCLE</td>\n",
       "      <td>9e0723abaf8b396b45f1df1446fcb8b8a513c4a2877e85...</td>\n",
       "      <td>12/31/2024 04:40:00 PM</td>\n",
       "      <td>M</td>\n",
       "      <td>NaN</td>\n",
       "      <td>HELMET NOT USED</td>\n",
       "      <td>OTHER ACTION</td>\n",
       "      <td>NOT IN ROADWAY</td>\n",
       "      <td>TEST NOT OFFERED</td>\n",
       "    </tr>\n",
       "    <tr>\n",
       "      <th>1</th>\n",
       "      <td>O1981069</td>\n",
       "      <td>BICYCLE</td>\n",
       "      <td>0d5bea8b2b8472684d78d55e882df0faecf6d29a46127d...</td>\n",
       "      <td>12/31/2024 08:53:00 AM</td>\n",
       "      <td>M</td>\n",
       "      <td>21.0</td>\n",
       "      <td>HELMET NOT USED</td>\n",
       "      <td>WITH TRAFFIC</td>\n",
       "      <td>IN ROADWAY</td>\n",
       "      <td>TEST NOT OFFERED</td>\n",
       "    </tr>\n",
       "    <tr>\n",
       "      <th>2</th>\n",
       "      <td>O1978668</td>\n",
       "      <td>BICYCLE</td>\n",
       "      <td>b34303ecdd4a5fd116f5e26f140eb7561449a748bc53dc...</td>\n",
       "      <td>12/31/2024 06:25:00 AM</td>\n",
       "      <td>M</td>\n",
       "      <td>61.0</td>\n",
       "      <td>BICYCLE HELMET (PEDACYCLIST INVOLVED ONLY)</td>\n",
       "      <td>OTHER ACTION</td>\n",
       "      <td>IN ROADWAY</td>\n",
       "      <td>TEST NOT OFFERED</td>\n",
       "    </tr>\n",
       "    <tr>\n",
       "      <th>3</th>\n",
       "      <td>O1978485</td>\n",
       "      <td>BICYCLE</td>\n",
       "      <td>540b3c613e32741b09c07b6260be03d4177b34058950a3...</td>\n",
       "      <td>12/30/2024 06:18:00 PM</td>\n",
       "      <td>F</td>\n",
       "      <td>56.0</td>\n",
       "      <td>HELMET NOT USED</td>\n",
       "      <td>CROSSING - NO CONTROLS (AT INTERSECTION)</td>\n",
       "      <td>IN CROSSWALK</td>\n",
       "      <td>TEST NOT OFFERED</td>\n",
       "    </tr>\n",
       "    <tr>\n",
       "      <th>4</th>\n",
       "      <td>O1978464</td>\n",
       "      <td>BICYCLE</td>\n",
       "      <td>88196a2e082d2721b0ebea537fc1635126e292bec7fcbc...</td>\n",
       "      <td>12/30/2024 04:57:00 PM</td>\n",
       "      <td>F</td>\n",
       "      <td>49.0</td>\n",
       "      <td>HELMET NOT USED</td>\n",
       "      <td>CROSSING - WITH SIGNAL</td>\n",
       "      <td>BIKEWAY</td>\n",
       "      <td>TEST NOT OFFERED</td>\n",
       "    </tr>\n",
       "  </tbody>\n",
       "</table>\n",
       "</div>"
      ]
     },
     "execution_count": 82,
     "metadata": {},
     "output_type": "execute_result"
    }
   ],
   "execution_count": 82
  },
  {
   "metadata": {
    "ExecuteTime": {
     "end_time": "2025-05-05T04:38:40.773324Z",
     "start_time": "2025-05-05T04:38:40.765802Z"
    }
   },
   "cell_type": "code",
   "source": "crash_owned_people.shape",
   "id": "58a5afde6806c129",
   "outputs": [
    {
     "data": {
      "text/plain": [
       "(6574, 10)"
      ]
     },
     "execution_count": 83,
     "metadata": {},
     "output_type": "execute_result"
    }
   ],
   "execution_count": 83
  },
  {
   "metadata": {},
   "cell_type": "markdown",
   "source": "#### Merge the Data",
   "id": "549e8191ff1ded7"
  },
  {
   "metadata": {},
   "cell_type": "markdown",
   "source": "##### the rental part:",
   "id": "49b694911526e840"
  },
  {
   "metadata": {
    "ExecuteTime": {
     "end_time": "2025-05-05T04:32:44.749787Z",
     "start_time": "2025-05-05T04:32:44.744428Z"
    }
   },
   "cell_type": "code",
   "outputs": [
    {
     "name": "stdout",
     "output_type": "stream",
     "text": [
      "Index(['PERSON_ID', 'PERSON_TYPE', 'CRASH_RECORD_ID', 'CRASH_DATE_x', 'SEX',\n",
      "       'AGE', 'SAFETY_EQUIPMENT', 'PEDPEDAL_ACTION', 'PEDPEDAL_LOCATION',\n",
      "       'BAC_RESULT', 'CRASH_DATE_EST_I', 'CRASH_DATE_y', 'POSTED_SPEED_LIMIT',\n",
      "       'WEATHER_CONDITION', 'LIGHTING_CONDITION', 'FIRST_CRASH_TYPE',\n",
      "       'TRAFFICWAY_TYPE', 'ALIGNMENT', 'ROADWAY_SURFACE_COND', 'CRASH_TYPE',\n",
      "       'STREET_NAME', 'LATITUDE', 'LONGITUDE', 'LOCATION', 'Label'],\n",
      "      dtype='object')\n"
     ]
    }
   ],
   "execution_count": 76,
   "source": [
    "crash_rental_merge = crash_rental_people.merge(rental_crash,on='CRASH_RECORD_ID',how='left')\n",
    "print(crash_rental_merge.columns)"
   ],
   "id": "6d4e1c6b676de5ce"
  },
  {
   "metadata": {
    "ExecuteTime": {
     "end_time": "2025-05-05T04:32:46.030542Z",
     "start_time": "2025-05-05T04:32:46.023721Z"
    }
   },
   "cell_type": "code",
   "outputs": [],
   "execution_count": 77,
   "source": [
    "crash_rental_merge['Type']=crash_rental_merge['Label'].str.get('Type')\n",
    "del crash_rental_merge['CRASH_DATE_y'],crash_rental_merge['Label']"
   ],
   "id": "d909f8dccbecf8f7"
  },
  {
   "metadata": {
    "ExecuteTime": {
     "end_time": "2025-05-05T04:32:47.478700Z",
     "start_time": "2025-05-05T04:32:47.474832Z"
    }
   },
   "cell_type": "code",
   "outputs": [
    {
     "data": {
      "text/plain": [
       "Index(['PERSON_ID', 'PERSON_TYPE', 'CRASH_RECORD_ID', 'CRASH_DATE_x', 'SEX',\n",
       "       'AGE', 'SAFETY_EQUIPMENT', 'PEDPEDAL_ACTION', 'PEDPEDAL_LOCATION',\n",
       "       'BAC_RESULT', 'CRASH_DATE_EST_I', 'POSTED_SPEED_LIMIT',\n",
       "       'WEATHER_CONDITION', 'LIGHTING_CONDITION', 'FIRST_CRASH_TYPE',\n",
       "       'TRAFFICWAY_TYPE', 'ALIGNMENT', 'ROADWAY_SURFACE_COND', 'CRASH_TYPE',\n",
       "       'STREET_NAME', 'LATITUDE', 'LONGITUDE', 'LOCATION', 'Type'],\n",
       "      dtype='object')"
      ]
     },
     "execution_count": 78,
     "metadata": {},
     "output_type": "execute_result"
    }
   ],
   "execution_count": 78,
   "source": "crash_rental_merge.columns",
   "id": "e4579c916baa7990"
  },
  {
   "metadata": {
    "ExecuteTime": {
     "end_time": "2025-05-05T04:32:56.584581Z",
     "start_time": "2025-05-05T04:32:56.573700Z"
    }
   },
   "cell_type": "code",
   "outputs": [
    {
     "data": {
      "text/plain": [
       "  PERSON_ID PERSON_TYPE                                    CRASH_RECORD_ID  \\\n",
       "0  O1963042     BICYCLE  8d47b3a2ded783baa259ec9e4b56e89fdd327ac6d6e483...   \n",
       "1  O1963987     BICYCLE  2f2d19debd9560376fbd92e1449474812e997c39d86539...   \n",
       "2  O1953595     BICYCLE  460149d0258509643a4d5ee0cea60a35f88e18c8db2c75...   \n",
       "3  O1947983     BICYCLE  c3d5883f6c8396c23122de81f6cfee2e7d86ca8b203fcc...   \n",
       "4  O1947727     BICYCLE  b47c106a4b28644815a59541f3b1fd0a8484b59088dd59...   \n",
       "\n",
       "             CRASH_DATE_x SEX   AGE  \\\n",
       "0  12/06/2024 08:55:00 AM   M  32.0   \n",
       "1  11/27/2024 06:00:00 PM   M   NaN   \n",
       "2  11/20/2024 06:30:00 PM   M   NaN   \n",
       "3  11/12/2024 05:35:00 PM   M  26.0   \n",
       "4  11/12/2024 12:14:00 PM   M  26.0   \n",
       "\n",
       "                             SAFETY_EQUIPMENT         PEDPEDAL_ACTION  \\\n",
       "0  BICYCLE HELMET (PEDACYCLIST INVOLVED ONLY)            WITH TRAFFIC   \n",
       "1  BICYCLE HELMET (PEDACYCLIST INVOLVED ONLY)            WITH TRAFFIC   \n",
       "2                             HELMET NOT USED  CROSSING - WITH SIGNAL   \n",
       "3                             HELMET NOT USED            WITH TRAFFIC   \n",
       "4                             HELMET NOT USED            OTHER ACTION   \n",
       "\n",
       "  PEDPEDAL_LOCATION        BAC_RESULT  ... FIRST_CRASH_TYPE  \\\n",
       "0        IN ROADWAY  TEST NOT OFFERED  ...     PEDALCYCLIST   \n",
       "1        IN ROADWAY  TEST NOT OFFERED  ...     PEDALCYCLIST   \n",
       "2      IN CROSSWALK  TEST NOT OFFERED  ...     PEDALCYCLIST   \n",
       "3         BIKE LANE  TEST NOT OFFERED  ...     PEDALCYCLIST   \n",
       "4         BIKE LANE  TEST NOT OFFERED  ...     PEDALCYCLIST   \n",
       "\n",
       "              TRAFFICWAY_TYPE           ALIGNMENT ROADWAY_SURFACE_COND  \\\n",
       "0  DIVIDED - W/MEDIAN BARRIER  STRAIGHT AND LEVEL                  DRY   \n",
       "1                 NOT DIVIDED  STRAIGHT AND LEVEL                  DRY   \n",
       "2                    FOUR WAY  STRAIGHT AND LEVEL                  WET   \n",
       "3                 NOT DIVIDED  STRAIGHT AND LEVEL                  DRY   \n",
       "4                     ONE-WAY  STRAIGHT AND LEVEL                  DRY   \n",
       "\n",
       "                         CRASH_TYPE    STREET_NAME   LATITUDE  LONGITUDE  \\\n",
       "0  INJURY AND / OR TOW DUE TO CRASH      MORGAN ST  41.871699 -87.651030   \n",
       "1  INJURY AND / OR TOW DUE TO CRASH      RIDGE AVE  41.989677 -87.670207   \n",
       "2            NO INJURY / DRIVE AWAY    SEDGWICK ST  41.922004 -87.639085   \n",
       "3            NO INJURY / DRIVE AWAY  SOUTHPORT AVE  41.943846 -87.663782   \n",
       "4  INJURY AND / OR TOW DUE TO CRASH    DEARBORN ST  41.884446 -87.629602   \n",
       "\n",
       "                                   LOCATION           Type  \n",
       "0    POINT (-87.651030096835 41.8716989836)   classic_bike  \n",
       "1   POINT (-87.670206816488 41.98967693564)  electric_bike  \n",
       "2    POINT (-87.63908479494 41.92200373395)  electric_bike  \n",
       "3  POINT (-87.663781934613 41.943845601126)  electric_bike  \n",
       "4  POINT (-87.629602188986 41.884446079412)   classic_bike  \n",
       "\n",
       "[5 rows x 24 columns]"
      ],
      "text/html": [
       "<div>\n",
       "<style scoped>\n",
       "    .dataframe tbody tr th:only-of-type {\n",
       "        vertical-align: middle;\n",
       "    }\n",
       "\n",
       "    .dataframe tbody tr th {\n",
       "        vertical-align: top;\n",
       "    }\n",
       "\n",
       "    .dataframe thead th {\n",
       "        text-align: right;\n",
       "    }\n",
       "</style>\n",
       "<table border=\"1\" class=\"dataframe\">\n",
       "  <thead>\n",
       "    <tr style=\"text-align: right;\">\n",
       "      <th></th>\n",
       "      <th>PERSON_ID</th>\n",
       "      <th>PERSON_TYPE</th>\n",
       "      <th>CRASH_RECORD_ID</th>\n",
       "      <th>CRASH_DATE_x</th>\n",
       "      <th>SEX</th>\n",
       "      <th>AGE</th>\n",
       "      <th>SAFETY_EQUIPMENT</th>\n",
       "      <th>PEDPEDAL_ACTION</th>\n",
       "      <th>PEDPEDAL_LOCATION</th>\n",
       "      <th>BAC_RESULT</th>\n",
       "      <th>...</th>\n",
       "      <th>FIRST_CRASH_TYPE</th>\n",
       "      <th>TRAFFICWAY_TYPE</th>\n",
       "      <th>ALIGNMENT</th>\n",
       "      <th>ROADWAY_SURFACE_COND</th>\n",
       "      <th>CRASH_TYPE</th>\n",
       "      <th>STREET_NAME</th>\n",
       "      <th>LATITUDE</th>\n",
       "      <th>LONGITUDE</th>\n",
       "      <th>LOCATION</th>\n",
       "      <th>Type</th>\n",
       "    </tr>\n",
       "  </thead>\n",
       "  <tbody>\n",
       "    <tr>\n",
       "      <th>0</th>\n",
       "      <td>O1963042</td>\n",
       "      <td>BICYCLE</td>\n",
       "      <td>8d47b3a2ded783baa259ec9e4b56e89fdd327ac6d6e483...</td>\n",
       "      <td>12/06/2024 08:55:00 AM</td>\n",
       "      <td>M</td>\n",
       "      <td>32.0</td>\n",
       "      <td>BICYCLE HELMET (PEDACYCLIST INVOLVED ONLY)</td>\n",
       "      <td>WITH TRAFFIC</td>\n",
       "      <td>IN ROADWAY</td>\n",
       "      <td>TEST NOT OFFERED</td>\n",
       "      <td>...</td>\n",
       "      <td>PEDALCYCLIST</td>\n",
       "      <td>DIVIDED - W/MEDIAN BARRIER</td>\n",
       "      <td>STRAIGHT AND LEVEL</td>\n",
       "      <td>DRY</td>\n",
       "      <td>INJURY AND / OR TOW DUE TO CRASH</td>\n",
       "      <td>MORGAN ST</td>\n",
       "      <td>41.871699</td>\n",
       "      <td>-87.651030</td>\n",
       "      <td>POINT (-87.651030096835 41.8716989836)</td>\n",
       "      <td>classic_bike</td>\n",
       "    </tr>\n",
       "    <tr>\n",
       "      <th>1</th>\n",
       "      <td>O1963987</td>\n",
       "      <td>BICYCLE</td>\n",
       "      <td>2f2d19debd9560376fbd92e1449474812e997c39d86539...</td>\n",
       "      <td>11/27/2024 06:00:00 PM</td>\n",
       "      <td>M</td>\n",
       "      <td>NaN</td>\n",
       "      <td>BICYCLE HELMET (PEDACYCLIST INVOLVED ONLY)</td>\n",
       "      <td>WITH TRAFFIC</td>\n",
       "      <td>IN ROADWAY</td>\n",
       "      <td>TEST NOT OFFERED</td>\n",
       "      <td>...</td>\n",
       "      <td>PEDALCYCLIST</td>\n",
       "      <td>NOT DIVIDED</td>\n",
       "      <td>STRAIGHT AND LEVEL</td>\n",
       "      <td>DRY</td>\n",
       "      <td>INJURY AND / OR TOW DUE TO CRASH</td>\n",
       "      <td>RIDGE AVE</td>\n",
       "      <td>41.989677</td>\n",
       "      <td>-87.670207</td>\n",
       "      <td>POINT (-87.670206816488 41.98967693564)</td>\n",
       "      <td>electric_bike</td>\n",
       "    </tr>\n",
       "    <tr>\n",
       "      <th>2</th>\n",
       "      <td>O1953595</td>\n",
       "      <td>BICYCLE</td>\n",
       "      <td>460149d0258509643a4d5ee0cea60a35f88e18c8db2c75...</td>\n",
       "      <td>11/20/2024 06:30:00 PM</td>\n",
       "      <td>M</td>\n",
       "      <td>NaN</td>\n",
       "      <td>HELMET NOT USED</td>\n",
       "      <td>CROSSING - WITH SIGNAL</td>\n",
       "      <td>IN CROSSWALK</td>\n",
       "      <td>TEST NOT OFFERED</td>\n",
       "      <td>...</td>\n",
       "      <td>PEDALCYCLIST</td>\n",
       "      <td>FOUR WAY</td>\n",
       "      <td>STRAIGHT AND LEVEL</td>\n",
       "      <td>WET</td>\n",
       "      <td>NO INJURY / DRIVE AWAY</td>\n",
       "      <td>SEDGWICK ST</td>\n",
       "      <td>41.922004</td>\n",
       "      <td>-87.639085</td>\n",
       "      <td>POINT (-87.63908479494 41.92200373395)</td>\n",
       "      <td>electric_bike</td>\n",
       "    </tr>\n",
       "    <tr>\n",
       "      <th>3</th>\n",
       "      <td>O1947983</td>\n",
       "      <td>BICYCLE</td>\n",
       "      <td>c3d5883f6c8396c23122de81f6cfee2e7d86ca8b203fcc...</td>\n",
       "      <td>11/12/2024 05:35:00 PM</td>\n",
       "      <td>M</td>\n",
       "      <td>26.0</td>\n",
       "      <td>HELMET NOT USED</td>\n",
       "      <td>WITH TRAFFIC</td>\n",
       "      <td>BIKE LANE</td>\n",
       "      <td>TEST NOT OFFERED</td>\n",
       "      <td>...</td>\n",
       "      <td>PEDALCYCLIST</td>\n",
       "      <td>NOT DIVIDED</td>\n",
       "      <td>STRAIGHT AND LEVEL</td>\n",
       "      <td>DRY</td>\n",
       "      <td>NO INJURY / DRIVE AWAY</td>\n",
       "      <td>SOUTHPORT AVE</td>\n",
       "      <td>41.943846</td>\n",
       "      <td>-87.663782</td>\n",
       "      <td>POINT (-87.663781934613 41.943845601126)</td>\n",
       "      <td>electric_bike</td>\n",
       "    </tr>\n",
       "    <tr>\n",
       "      <th>4</th>\n",
       "      <td>O1947727</td>\n",
       "      <td>BICYCLE</td>\n",
       "      <td>b47c106a4b28644815a59541f3b1fd0a8484b59088dd59...</td>\n",
       "      <td>11/12/2024 12:14:00 PM</td>\n",
       "      <td>M</td>\n",
       "      <td>26.0</td>\n",
       "      <td>HELMET NOT USED</td>\n",
       "      <td>OTHER ACTION</td>\n",
       "      <td>BIKE LANE</td>\n",
       "      <td>TEST NOT OFFERED</td>\n",
       "      <td>...</td>\n",
       "      <td>PEDALCYCLIST</td>\n",
       "      <td>ONE-WAY</td>\n",
       "      <td>STRAIGHT AND LEVEL</td>\n",
       "      <td>DRY</td>\n",
       "      <td>INJURY AND / OR TOW DUE TO CRASH</td>\n",
       "      <td>DEARBORN ST</td>\n",
       "      <td>41.884446</td>\n",
       "      <td>-87.629602</td>\n",
       "      <td>POINT (-87.629602188986 41.884446079412)</td>\n",
       "      <td>classic_bike</td>\n",
       "    </tr>\n",
       "  </tbody>\n",
       "</table>\n",
       "<p>5 rows × 24 columns</p>\n",
       "</div>"
      ]
     },
     "execution_count": 79,
     "metadata": {},
     "output_type": "execute_result"
    }
   ],
   "execution_count": 79,
   "source": "crash_rental_merge.head()",
   "id": "9e6543d0c5920108"
  },
  {
   "metadata": {},
   "cell_type": "markdown",
   "source": "##### the owned part:",
   "id": "a808558bf8f9235e"
  },
  {
   "metadata": {
    "ExecuteTime": {
     "end_time": "2025-05-05T04:39:49.878242Z",
     "start_time": "2025-05-05T04:39:49.867155Z"
    }
   },
   "cell_type": "code",
   "source": [
    "crash_owned_merge = crash_owned_people.merge(owned_crash,on='CRASH_RECORD_ID',how='left')\n",
    "print(crash_owned_merge.columns)"
   ],
   "id": "8ee1545c1759433",
   "outputs": [
    {
     "name": "stdout",
     "output_type": "stream",
     "text": [
      "Index(['PERSON_ID', 'PERSON_TYPE', 'CRASH_RECORD_ID', 'CRASH_DATE_x', 'SEX',\n",
      "       'AGE', 'SAFETY_EQUIPMENT', 'PEDPEDAL_ACTION', 'PEDPEDAL_LOCATION',\n",
      "       'BAC_RESULT', 'CRASH_DATE_EST_I', 'CRASH_DATE_y', 'POSTED_SPEED_LIMIT',\n",
      "       'WEATHER_CONDITION', 'LIGHTING_CONDITION', 'FIRST_CRASH_TYPE',\n",
      "       'TRAFFICWAY_TYPE', 'ALIGNMENT', 'ROADWAY_SURFACE_COND', 'CRASH_TYPE',\n",
      "       'STREET_NAME', 'LATITUDE', 'LONGITUDE', 'LOCATION', 'Label'],\n",
      "      dtype='object')\n"
     ]
    }
   ],
   "execution_count": 84
  },
  {
   "metadata": {
    "ExecuteTime": {
     "end_time": "2025-05-05T04:40:53.585856Z",
     "start_time": "2025-05-05T04:40:53.581765Z"
    }
   },
   "cell_type": "code",
   "source": [
    "del crash_owned_merge['CRASH_DATE_y'],crash_owned_merge['Label']\n",
    "crash_owned_merge.columns"
   ],
   "id": "7371de1baa4b925d",
   "outputs": [
    {
     "data": {
      "text/plain": [
       "Index(['PERSON_ID', 'PERSON_TYPE', 'CRASH_RECORD_ID', 'CRASH_DATE_x', 'SEX',\n",
       "       'AGE', 'SAFETY_EQUIPMENT', 'PEDPEDAL_ACTION', 'PEDPEDAL_LOCATION',\n",
       "       'BAC_RESULT', 'CRASH_DATE_EST_I', 'POSTED_SPEED_LIMIT',\n",
       "       'WEATHER_CONDITION', 'LIGHTING_CONDITION', 'FIRST_CRASH_TYPE',\n",
       "       'TRAFFICWAY_TYPE', 'ALIGNMENT', 'ROADWAY_SURFACE_COND', 'CRASH_TYPE',\n",
       "       'STREET_NAME', 'LATITUDE', 'LONGITUDE', 'LOCATION'],\n",
       "      dtype='object')"
      ]
     },
     "execution_count": 86,
     "metadata": {},
     "output_type": "execute_result"
    }
   ],
   "execution_count": 86
  },
  {
   "metadata": {
    "ExecuteTime": {
     "end_time": "2025-05-05T04:41:24.114959Z",
     "start_time": "2025-05-05T04:41:24.104937Z"
    }
   },
   "cell_type": "code",
   "source": "crash_owned_merge.head()",
   "id": "dc9cf19eac418ac2",
   "outputs": [
    {
     "data": {
      "text/plain": [
       "  PERSON_ID PERSON_TYPE                                    CRASH_RECORD_ID  \\\n",
       "0  O1985546     BICYCLE  9e0723abaf8b396b45f1df1446fcb8b8a513c4a2877e85...   \n",
       "1  O1981069     BICYCLE  0d5bea8b2b8472684d78d55e882df0faecf6d29a46127d...   \n",
       "2  O1978668     BICYCLE  b34303ecdd4a5fd116f5e26f140eb7561449a748bc53dc...   \n",
       "3  O1978485     BICYCLE  540b3c613e32741b09c07b6260be03d4177b34058950a3...   \n",
       "4  O1978464     BICYCLE  88196a2e082d2721b0ebea537fc1635126e292bec7fcbc...   \n",
       "\n",
       "             CRASH_DATE_x SEX   AGE  \\\n",
       "0  12/31/2024 04:40:00 PM   M   NaN   \n",
       "1  12/31/2024 08:53:00 AM   M  21.0   \n",
       "2  12/31/2024 06:25:00 AM   M  61.0   \n",
       "3  12/30/2024 06:18:00 PM   F  56.0   \n",
       "4  12/30/2024 04:57:00 PM   F  49.0   \n",
       "\n",
       "                             SAFETY_EQUIPMENT  \\\n",
       "0                             HELMET NOT USED   \n",
       "1                             HELMET NOT USED   \n",
       "2  BICYCLE HELMET (PEDACYCLIST INVOLVED ONLY)   \n",
       "3                             HELMET NOT USED   \n",
       "4                             HELMET NOT USED   \n",
       "\n",
       "                            PEDPEDAL_ACTION PEDPEDAL_LOCATION  \\\n",
       "0                              OTHER ACTION    NOT IN ROADWAY   \n",
       "1                              WITH TRAFFIC        IN ROADWAY   \n",
       "2                              OTHER ACTION        IN ROADWAY   \n",
       "3  CROSSING - NO CONTROLS (AT INTERSECTION)      IN CROSSWALK   \n",
       "4                    CROSSING - WITH SIGNAL           BIKEWAY   \n",
       "\n",
       "         BAC_RESULT  ...      LIGHTING_CONDITION  FIRST_CRASH_TYPE  \\\n",
       "0  TEST NOT OFFERED  ...  DARKNESS, LIGHTED ROAD      PEDALCYCLIST   \n",
       "1  TEST NOT OFFERED  ...                DAYLIGHT      PEDALCYCLIST   \n",
       "2  TEST NOT OFFERED  ...  DARKNESS, LIGHTED ROAD      PEDALCYCLIST   \n",
       "3  TEST NOT OFFERED  ...  DARKNESS, LIGHTED ROAD      PEDALCYCLIST   \n",
       "4  TEST NOT OFFERED  ...                DAYLIGHT      PEDALCYCLIST   \n",
       "\n",
       "  TRAFFICWAY_TYPE           ALIGNMENT ROADWAY_SURFACE_COND  \\\n",
       "0         ONE-WAY  STRAIGHT AND LEVEL                  DRY   \n",
       "1         UNKNOWN  STRAIGHT AND LEVEL                  WET   \n",
       "2        FOUR WAY  STRAIGHT AND LEVEL                  WET   \n",
       "3         ONE-WAY  STRAIGHT AND LEVEL                  DRY   \n",
       "4        FOUR WAY  STRAIGHT AND LEVEL                  DRY   \n",
       "\n",
       "                         CRASH_TYPE   STREET_NAME   LATITUDE  LONGITUDE  \\\n",
       "0  INJURY AND / OR TOW DUE TO CRASH     MEADE AVE  41.791949 -87.774334   \n",
       "1            NO INJURY / DRIVE AWAY  RIDGEWAY AVE  41.894391 -87.719794   \n",
       "2  INJURY AND / OR TOW DUE TO CRASH   KENMORE AVE  41.976463 -87.656566   \n",
       "3  INJURY AND / OR TOW DUE TO CRASH  BERENICE AVE  41.950423 -87.776558   \n",
       "4  INJURY AND / OR TOW DUE TO CRASH       18TH ST  41.857945 -87.663712   \n",
       "\n",
       "                                   LOCATION  \n",
       "0  POINT (-87.774334287364 41.791949487206)  \n",
       "1   POINT (-87.71979403941 41.894390910476)  \n",
       "2  POINT (-87.656566023042 41.976463062876)  \n",
       "3  POINT (-87.776557899455 41.950423326225)  \n",
       "4  POINT (-87.663712101389 41.857945166904)  \n",
       "\n",
       "[5 rows x 23 columns]"
      ],
      "text/html": [
       "<div>\n",
       "<style scoped>\n",
       "    .dataframe tbody tr th:only-of-type {\n",
       "        vertical-align: middle;\n",
       "    }\n",
       "\n",
       "    .dataframe tbody tr th {\n",
       "        vertical-align: top;\n",
       "    }\n",
       "\n",
       "    .dataframe thead th {\n",
       "        text-align: right;\n",
       "    }\n",
       "</style>\n",
       "<table border=\"1\" class=\"dataframe\">\n",
       "  <thead>\n",
       "    <tr style=\"text-align: right;\">\n",
       "      <th></th>\n",
       "      <th>PERSON_ID</th>\n",
       "      <th>PERSON_TYPE</th>\n",
       "      <th>CRASH_RECORD_ID</th>\n",
       "      <th>CRASH_DATE_x</th>\n",
       "      <th>SEX</th>\n",
       "      <th>AGE</th>\n",
       "      <th>SAFETY_EQUIPMENT</th>\n",
       "      <th>PEDPEDAL_ACTION</th>\n",
       "      <th>PEDPEDAL_LOCATION</th>\n",
       "      <th>BAC_RESULT</th>\n",
       "      <th>...</th>\n",
       "      <th>LIGHTING_CONDITION</th>\n",
       "      <th>FIRST_CRASH_TYPE</th>\n",
       "      <th>TRAFFICWAY_TYPE</th>\n",
       "      <th>ALIGNMENT</th>\n",
       "      <th>ROADWAY_SURFACE_COND</th>\n",
       "      <th>CRASH_TYPE</th>\n",
       "      <th>STREET_NAME</th>\n",
       "      <th>LATITUDE</th>\n",
       "      <th>LONGITUDE</th>\n",
       "      <th>LOCATION</th>\n",
       "    </tr>\n",
       "  </thead>\n",
       "  <tbody>\n",
       "    <tr>\n",
       "      <th>0</th>\n",
       "      <td>O1985546</td>\n",
       "      <td>BICYCLE</td>\n",
       "      <td>9e0723abaf8b396b45f1df1446fcb8b8a513c4a2877e85...</td>\n",
       "      <td>12/31/2024 04:40:00 PM</td>\n",
       "      <td>M</td>\n",
       "      <td>NaN</td>\n",
       "      <td>HELMET NOT USED</td>\n",
       "      <td>OTHER ACTION</td>\n",
       "      <td>NOT IN ROADWAY</td>\n",
       "      <td>TEST NOT OFFERED</td>\n",
       "      <td>...</td>\n",
       "      <td>DARKNESS, LIGHTED ROAD</td>\n",
       "      <td>PEDALCYCLIST</td>\n",
       "      <td>ONE-WAY</td>\n",
       "      <td>STRAIGHT AND LEVEL</td>\n",
       "      <td>DRY</td>\n",
       "      <td>INJURY AND / OR TOW DUE TO CRASH</td>\n",
       "      <td>MEADE AVE</td>\n",
       "      <td>41.791949</td>\n",
       "      <td>-87.774334</td>\n",
       "      <td>POINT (-87.774334287364 41.791949487206)</td>\n",
       "    </tr>\n",
       "    <tr>\n",
       "      <th>1</th>\n",
       "      <td>O1981069</td>\n",
       "      <td>BICYCLE</td>\n",
       "      <td>0d5bea8b2b8472684d78d55e882df0faecf6d29a46127d...</td>\n",
       "      <td>12/31/2024 08:53:00 AM</td>\n",
       "      <td>M</td>\n",
       "      <td>21.0</td>\n",
       "      <td>HELMET NOT USED</td>\n",
       "      <td>WITH TRAFFIC</td>\n",
       "      <td>IN ROADWAY</td>\n",
       "      <td>TEST NOT OFFERED</td>\n",
       "      <td>...</td>\n",
       "      <td>DAYLIGHT</td>\n",
       "      <td>PEDALCYCLIST</td>\n",
       "      <td>UNKNOWN</td>\n",
       "      <td>STRAIGHT AND LEVEL</td>\n",
       "      <td>WET</td>\n",
       "      <td>NO INJURY / DRIVE AWAY</td>\n",
       "      <td>RIDGEWAY AVE</td>\n",
       "      <td>41.894391</td>\n",
       "      <td>-87.719794</td>\n",
       "      <td>POINT (-87.71979403941 41.894390910476)</td>\n",
       "    </tr>\n",
       "    <tr>\n",
       "      <th>2</th>\n",
       "      <td>O1978668</td>\n",
       "      <td>BICYCLE</td>\n",
       "      <td>b34303ecdd4a5fd116f5e26f140eb7561449a748bc53dc...</td>\n",
       "      <td>12/31/2024 06:25:00 AM</td>\n",
       "      <td>M</td>\n",
       "      <td>61.0</td>\n",
       "      <td>BICYCLE HELMET (PEDACYCLIST INVOLVED ONLY)</td>\n",
       "      <td>OTHER ACTION</td>\n",
       "      <td>IN ROADWAY</td>\n",
       "      <td>TEST NOT OFFERED</td>\n",
       "      <td>...</td>\n",
       "      <td>DARKNESS, LIGHTED ROAD</td>\n",
       "      <td>PEDALCYCLIST</td>\n",
       "      <td>FOUR WAY</td>\n",
       "      <td>STRAIGHT AND LEVEL</td>\n",
       "      <td>WET</td>\n",
       "      <td>INJURY AND / OR TOW DUE TO CRASH</td>\n",
       "      <td>KENMORE AVE</td>\n",
       "      <td>41.976463</td>\n",
       "      <td>-87.656566</td>\n",
       "      <td>POINT (-87.656566023042 41.976463062876)</td>\n",
       "    </tr>\n",
       "    <tr>\n",
       "      <th>3</th>\n",
       "      <td>O1978485</td>\n",
       "      <td>BICYCLE</td>\n",
       "      <td>540b3c613e32741b09c07b6260be03d4177b34058950a3...</td>\n",
       "      <td>12/30/2024 06:18:00 PM</td>\n",
       "      <td>F</td>\n",
       "      <td>56.0</td>\n",
       "      <td>HELMET NOT USED</td>\n",
       "      <td>CROSSING - NO CONTROLS (AT INTERSECTION)</td>\n",
       "      <td>IN CROSSWALK</td>\n",
       "      <td>TEST NOT OFFERED</td>\n",
       "      <td>...</td>\n",
       "      <td>DARKNESS, LIGHTED ROAD</td>\n",
       "      <td>PEDALCYCLIST</td>\n",
       "      <td>ONE-WAY</td>\n",
       "      <td>STRAIGHT AND LEVEL</td>\n",
       "      <td>DRY</td>\n",
       "      <td>INJURY AND / OR TOW DUE TO CRASH</td>\n",
       "      <td>BERENICE AVE</td>\n",
       "      <td>41.950423</td>\n",
       "      <td>-87.776558</td>\n",
       "      <td>POINT (-87.776557899455 41.950423326225)</td>\n",
       "    </tr>\n",
       "    <tr>\n",
       "      <th>4</th>\n",
       "      <td>O1978464</td>\n",
       "      <td>BICYCLE</td>\n",
       "      <td>88196a2e082d2721b0ebea537fc1635126e292bec7fcbc...</td>\n",
       "      <td>12/30/2024 04:57:00 PM</td>\n",
       "      <td>F</td>\n",
       "      <td>49.0</td>\n",
       "      <td>HELMET NOT USED</td>\n",
       "      <td>CROSSING - WITH SIGNAL</td>\n",
       "      <td>BIKEWAY</td>\n",
       "      <td>TEST NOT OFFERED</td>\n",
       "      <td>...</td>\n",
       "      <td>DAYLIGHT</td>\n",
       "      <td>PEDALCYCLIST</td>\n",
       "      <td>FOUR WAY</td>\n",
       "      <td>STRAIGHT AND LEVEL</td>\n",
       "      <td>DRY</td>\n",
       "      <td>INJURY AND / OR TOW DUE TO CRASH</td>\n",
       "      <td>18TH ST</td>\n",
       "      <td>41.857945</td>\n",
       "      <td>-87.663712</td>\n",
       "      <td>POINT (-87.663712101389 41.857945166904)</td>\n",
       "    </tr>\n",
       "  </tbody>\n",
       "</table>\n",
       "<p>5 rows × 23 columns</p>\n",
       "</div>"
      ]
     },
     "execution_count": 87,
     "metadata": {},
     "output_type": "execute_result"
    }
   ],
   "execution_count": 87
  },
  {
   "metadata": {},
   "cell_type": "markdown",
   "source": "#### Print to CSV:",
   "id": "288ef837cb4373ea"
  },
  {
   "metadata": {},
   "cell_type": "markdown",
   "source": "print all the accident happend with a rental bike to a csv for later convenience",
   "id": "2d0b3fe2753f6e0c"
  },
  {
   "metadata": {
    "ExecuteTime": {
     "end_time": "2025-05-05T03:54:21.690785Z",
     "start_time": "2025-05-05T03:54:21.685253Z"
    }
   },
   "cell_type": "code",
   "source": "rental_crash.to_csv(\"Accident_rental.csv\",index=False,encoding='utf-8')",
   "id": "83b98ec2ced6e214",
   "outputs": [],
   "execution_count": 36
  },
  {
   "metadata": {
    "ExecuteTime": {
     "end_time": "2025-05-05T04:41:58.685977Z",
     "start_time": "2025-05-05T04:41:58.631722Z"
    }
   },
   "cell_type": "code",
   "source": [
    "crash_rental_merge.to_csv(\"Accident_rental_merge_details.csv\",index=False,encoding='utf-8')\n",
    "crash_owned_merge.to_csv(\"Accident_owned_merge_details.csv\",index=False,encoding='utf-8')"
   ],
   "id": "231f79623f871fc1",
   "outputs": [],
   "execution_count": 88
  },
  {
   "metadata": {},
   "cell_type": "markdown",
   "source": "### General analysis",
   "id": "4fc61b1f807d8976"
  },
  {
   "metadata": {},
   "cell_type": "markdown",
   "source": "The proportion and count of accident of each type vehicle",
   "id": "3b266f4d174a9252"
  },
  {
   "metadata": {
    "ExecuteTime": {
     "end_time": "2025-05-06T01:18:40.937556Z",
     "start_time": "2025-05-06T01:18:39.908658Z"
    }
   },
   "cell_type": "code",
   "source": "import pandas as pd",
   "id": "49484c79a825ade3",
   "outputs": [],
   "execution_count": 3
  },
  {
   "metadata": {
    "ExecuteTime": {
     "end_time": "2025-05-06T01:18:42.477750Z",
     "start_time": "2025-05-06T01:18:42.428037Z"
    }
   },
   "cell_type": "code",
   "source": [
    "df_owned=pd.read_csv(\"Accident_owned_merge_details.csv\")\n",
    "df_rental=pd.read_csv(\"Accident_rental_merge_details.csv\")"
   ],
   "id": "9a2aee16946ee924",
   "outputs": [],
   "execution_count": 4
  },
  {
   "metadata": {
    "ExecuteTime": {
     "end_time": "2025-05-06T01:20:23.423369Z",
     "start_time": "2025-05-06T01:20:23.418709Z"
    }
   },
   "cell_type": "code",
   "source": [
    "counts={'VehicleType':['owned','rental'],'Count':[len(df_owned),len(df_rental)]}\n",
    "summary_vehicle=pd.DataFrame(counts)"
   ],
   "id": "41e5aec05112c1d7",
   "outputs": [],
   "execution_count": 6
  },
  {
   "metadata": {
    "ExecuteTime": {
     "end_time": "2025-05-06T01:22:37.714631Z",
     "start_time": "2025-05-06T01:22:37.707988Z"
    }
   },
   "cell_type": "code",
   "source": [
    "summary_vehicle['Proportion']=summary_vehicle['Count']/summary_vehicle['Count'].sum()\n",
    "print(f\"OWNED vs. RENTAL:\\n{summary_vehicle}\")"
   ],
   "id": "8ee7459fc89e79d2",
   "outputs": [
    {
     "name": "stdout",
     "output_type": "stream",
     "text": [
      "OWNED vs. RENTAL:\n",
      "  VehicleType  Count  Proportion\n",
      "0       owned   6574     0.98178\n",
      "1      rental    122     0.01822\n"
     ]
    }
   ],
   "execution_count": 13
  },
  {
   "metadata": {},
   "cell_type": "markdown",
   "source": "### Hypothesis 1",
   "id": "789ae58bbc06c2f7"
  },
  {
   "metadata": {},
   "cell_type": "markdown",
   "source": "Hypothesis 1: More and more accidents occur as time goes by",
   "id": "d690877019aeb983"
  },
  {
   "metadata": {
    "ExecuteTime": {
     "end_time": "2025-05-06T01:35:21.259558Z",
     "start_time": "2025-05-06T01:35:21.245725Z"
    }
   },
   "cell_type": "code",
   "source": [
    "for df in [df_owned,df_rental]:\n",
    "    df['CrashDatetime']=pd.to_datetime(\n",
    "        df['CRASH_DATE_x'],\n",
    "        format='%d/%m/%Y %H:%M:%S %p',\n",
    "        errors='coerce'\n",
    "    )\n",
    "    df['Month']=df['CrashDatetime'].dt.to_period(freq='M')"
   ],
   "id": "8d705036b6012e",
   "outputs": [],
   "execution_count": 19
  },
  {
   "metadata": {
    "ExecuteTime": {
     "end_time": "2025-05-06T01:35:22.222974Z",
     "start_time": "2025-05-06T01:35:22.211424Z"
    }
   },
   "cell_type": "code",
   "source": [
    "time_owned = df_owned.groupby('Month').size().reset_index(name='OwnedCount')\n",
    "time_rental = df_rental.groupby('Month').size().reset_index(name='RentalCount')\n",
    "time_summary = pd.merge(time_owned, time_rental, on='Month', how='outer') \\\n",
    "                   .fillna(0) \\\n",
    "                   .sort_values('Month')"
   ],
   "id": "2f5efc10b8b67f81",
   "outputs": [],
   "execution_count": 20
  },
  {
   "metadata": {
    "ExecuteTime": {
     "end_time": "2025-05-06T01:35:31.813098Z",
     "start_time": "2025-05-06T01:35:31.806888Z"
    }
   },
   "cell_type": "code",
   "source": "print(time_summary)",
   "id": "6c0bcd8f725ad388",
   "outputs": [
    {
     "name": "stdout",
     "output_type": "stream",
     "text": [
      "      Month  OwnedCount  RentalCount\n",
      "0   2022-01          62          1.0\n",
      "1   2022-02          57          2.0\n",
      "2   2022-03          71          1.0\n",
      "3   2022-04          64          1.0\n",
      "4   2022-05          59          0.0\n",
      "5   2022-06          53          2.0\n",
      "6   2022-07          60          1.0\n",
      "7   2022-08          66          0.0\n",
      "8   2022-09          64          3.0\n",
      "9   2022-10          59          1.0\n",
      "10  2022-11          70          0.0\n",
      "11  2022-12          56          3.0\n",
      "12  2023-01          81          0.0\n",
      "13  2023-02          66          1.0\n",
      "14  2023-03          75          3.0\n",
      "15  2023-04          82          1.0\n",
      "16  2023-05          71          0.0\n",
      "17  2023-06          70          1.0\n",
      "18  2023-07          73          1.0\n",
      "19  2023-08          65          0.0\n",
      "20  2023-09          58          0.0\n",
      "21  2023-10          68          2.0\n",
      "22  2023-11          72          3.0\n",
      "23  2023-12          70          3.0\n",
      "24  2024-01          74          0.0\n",
      "25  2024-02          70          0.0\n",
      "26  2024-03          81          3.0\n",
      "27  2024-04         107          2.0\n",
      "28  2024-05          83          0.0\n",
      "29  2024-06          77          1.0\n",
      "30  2024-07          79          3.0\n",
      "31  2024-08          94          3.0\n",
      "32  2024-09          89          3.0\n",
      "33  2024-10          80          2.0\n",
      "34  2024-11          92          1.0\n",
      "35  2024-12         116          4.0\n"
     ]
    }
   ],
   "execution_count": 21
  },
  {
   "metadata": {},
   "cell_type": "markdown",
   "source": "Regression:",
   "id": "f0385c720a9aa6e1"
  },
  {
   "metadata": {
    "ExecuteTime": {
     "end_time": "2025-05-06T01:56:48.517170Z",
     "start_time": "2025-05-06T01:56:48.514139Z"
    }
   },
   "cell_type": "code",
   "source": "import numpy as np",
   "id": "385ce8b1c91f001d",
   "outputs": [],
   "execution_count": 26
  },
  {
   "metadata": {
    "ExecuteTime": {
     "end_time": "2025-05-06T01:55:44.934625Z",
     "start_time": "2025-05-06T01:55:44.915802Z"
    }
   },
   "cell_type": "code",
   "source": [
    "time_summary['MonthNum']=time_summary['Month'].dt.year*12+ time_summary['Month'].dt.month\n",
    "time_summary['MonthStr']=time_summary['Month'].astype(str)"
   ],
   "id": "4ada18ec80dd3b16",
   "outputs": [],
   "execution_count": 23
  },
  {
   "metadata": {},
   "cell_type": "markdown",
   "source": "owned:",
   "id": "2a93434ebf743922"
  },
  {
   "metadata": {
    "ExecuteTime": {
     "end_time": "2025-05-06T01:56:49.346257Z",
     "start_time": "2025-05-06T01:56:49.316513Z"
    }
   },
   "cell_type": "code",
   "source": [
    "coef_owned=np.polyfit(time_summary['MonthNum'],time_summary['OwnedCount'],1)\n",
    "trend_owned=np.poly1d(coef_owned)"
   ],
   "id": "437acfbcd181e5f9",
   "outputs": [],
   "execution_count": 27
  },
  {
   "metadata": {},
   "cell_type": "markdown",
   "source": "rental:",
   "id": "896731b29c17b527"
  },
  {
   "metadata": {
    "ExecuteTime": {
     "end_time": "2025-05-06T01:57:24.328036Z",
     "start_time": "2025-05-06T01:57:24.315442Z"
    }
   },
   "cell_type": "code",
   "source": [
    "coef_rental=np.polyfit(time_summary['MonthNum'],time_summary['RentalCount'],1)\n",
    "trend_rental=np.poly1d(coef_rental)"
   ],
   "id": "583193efcf8b7556",
   "outputs": [],
   "execution_count": 28
  },
  {
   "metadata": {},
   "cell_type": "markdown",
   "source": "#### Visualization",
   "id": "558187f0b247b598"
  },
  {
   "metadata": {
    "ExecuteTime": {
     "end_time": "2025-05-06T02:00:28.864158Z",
     "start_time": "2025-05-06T02:00:28.676150Z"
    }
   },
   "cell_type": "code",
   "source": [
    "import matplotlib.pyplot as plt\n",
    "\n",
    "plt.figure(figsize=(10,6))\n",
    "\n",
    "plt.scatter(time_summary['MonthStr'],time_summary['OwnedCount'],label='Owned',color='blue',alpha=0.5)\n",
    "plt.scatter(time_summary['MonthStr'],time_summary['RentalCount'],label='Rental',color='red',alpha=0.5,marker='o')\n",
    "\n",
    "plt.plot(time_summary['MonthStr'], trend_owned(time_summary['MonthNum']),\n",
    "         'b--', label=f'Owned Trend (slope={coef_owned[0]:.2f})')\n",
    "plt.plot(time_summary['MonthStr'], trend_rental(time_summary['MonthNum']),\n",
    "         'r--', label=f'Rental Trend (slope={coef_rental[0]:.2f})')\n",
    "\n",
    "plt.xticks(rotation=45)\n",
    "plt.xlabel('Month')\n",
    "plt.ylabel('Accident Count')\n",
    "plt.title('Monthly Accident Trend: Owned vs. Rental')\n",
    "plt.legend()\n",
    "plt.tight_layout()\n",
    "plt.show()"
   ],
   "id": "8dcfcb6f66a45696",
   "outputs": [
    {
     "data": {
      "text/plain": [
       "<Figure size 1000x600 with 1 Axes>"
      ],
      "image/png": "[encoded data removed]"
     },
     "metadata": {},
     "output_type": "display_data"
    }
   ],
   "execution_count": 29
  },
  {
   "metadata": {},
   "cell_type": "markdown",
   "source": "#### Result",
   "id": "61176dcda2934e30"
  },
  {
   "metadata": {},
   "cell_type": "markdown",
   "source": "This hypothesis is correct with a 0.97 slope of Owned, a 0.04 subtle slope of Rental",
   "id": "2e51de3f777397f7"
  },
  {
   "metadata": {},
   "cell_type": "markdown",
   "source": "### Hypothesis 2",
   "id": "1a42e748828a0705"
  },
  {
   "metadata": {},
   "cell_type": "markdown",
   "source": "Hypothesis 2: When the vehicle is owned, most of accidents happened in evening where people involved aged between 30-50",
   "id": "705f12779c64179a"
  },
  {
   "metadata": {
    "ExecuteTime": {
     "end_time": "2025-05-06T02:19:44.585541Z",
     "start_time": "2025-05-06T02:19:44.571885Z"
    }
   },
   "cell_type": "code",
   "source": "df_owned['Hour']=df_owned['CrashDateTime'].dt.hour",
   "id": "8442e85bd62c8a13",
   "outputs": [],
   "execution_count": 30
  },
  {
   "metadata": {
    "ExecuteTime": {
     "end_time": "2025-05-06T02:21:46.559319Z",
     "start_time": "2025-05-06T02:21:46.549524Z"
    }
   },
   "cell_type": "code",
   "source": [
    "def time_period(hour):\n",
    "    if 0<=hour<6:\n",
    "        return 'Night(0-6'\n",
    "    elif 6<=hour<12:\n",
    "        return 'Morning(6-12)'\n",
    "    elif 12<=hour<18:\n",
    "        return 'Afternoon(12-18)'\n",
    "    else:\n",
    "        return 'Evening(18-24)'\n",
    "df_owned['TimePeriod']=df_owned['Hour'].apply(time_period)"
   ],
   "id": "dd219b271aa03b7e",
   "outputs": [],
   "execution_count": 31
  },
  {
   "metadata": {
    "ExecuteTime": {
     "end_time": "2025-05-06T02:22:38.767599Z",
     "start_time": "2025-05-06T02:22:38.754225Z"
    }
   },
   "cell_type": "code",
   "source": [
    "mask=df_owned['AGE'].between(30,50,inclusive=\"both\")\n",
    "df_30_50=df_owned[mask]"
   ],
   "id": "307d963945c4ea59",
   "outputs": [],
   "execution_count": 32
  },
  {
   "metadata": {
    "ExecuteTime": {
     "end_time": "2025-05-06T02:24:31.263845Z",
     "start_time": "2025-05-06T02:24:31.243578Z"
    }
   },
   "cell_type": "code",
   "source": [
    "period_counts=df_30_50['TimePeriod'].value_counts()\n",
    "print(period_counts,\"\\n\")"
   ],
   "id": "2c1eb0ffd51819b1",
   "outputs": [
    {
     "name": "stdout",
     "output_type": "stream",
     "text": [
      "TimePeriod\n",
      "Evening(18-24)      1154\n",
      "Morning(6-12)        387\n",
      "Night(0-6            342\n",
      "Afternoon(12-18)      51\n",
      "Name: count, dtype: int64 \n",
      "\n"
     ]
    }
   ],
   "execution_count": 34
  },
  {
   "metadata": {},
   "cell_type": "markdown",
   "source": "#### Visualization",
   "id": "a4cc9b21306d3dd0"
  },
  {
   "metadata": {
    "ExecuteTime": {
     "end_time": "2025-05-06T02:29:03.839147Z",
     "start_time": "2025-05-06T02:29:03.758207Z"
    }
   },
   "cell_type": "code",
   "source": [
    "plt.figure(figsize=(8, 5))\n",
    "plt.bar(period_counts.index, period_counts.values)\n",
    "plt.xlabel('Time Period')\n",
    "plt.ylabel('Accident Count')\n",
    "plt.title('Owned Vehicles Accidents (Age 30-50) by Time Period')\n",
    "plt.xticks(rotation=45)\n",
    "plt.tight_layout()\n",
    "plt.show()"
   ],
   "id": "7f1f97adb1c5c735",
   "outputs": [
    {
     "data": {
      "text/plain": [
       "<Figure size 800x500 with 1 Axes>"
      ],
      "image/png": "[encoded data removed]"
     },
     "metadata": {},
     "output_type": "display_data"
    }
   ],
   "execution_count": 35
  },
  {
   "metadata": {},
   "cell_type": "markdown",
   "source": "#### Result",
   "id": "382ae43093c54582"
  },
  {
   "metadata": {},
   "cell_type": "markdown",
   "source": "The hypothesis is correct",
   "id": "9c0892f06866fb85"
  },
  {
   "metadata": {},
   "cell_type": "markdown",
   "source": "## Hypothesis 3",
   "id": "11ef7a814039635a"
  },
  {
   "metadata": {},
   "cell_type": "markdown",
   "source": "Hypothesis 3: When riding their own bike, younger people (children excluded) are tend to have no injury when an accident happened.",
   "id": "21f970d77c9ad31a"
  },
  {
   "metadata": {},
   "cell_type": "markdown",
   "source": "Because the amount of crashes that people involved in aged more than 90 is too low, may exclude them.",
   "id": "e00765f2cf4ee524"
  },
  {
   "metadata": {
    "ExecuteTime": {
     "end_time": "2025-05-06T02:54:21.604504Z",
     "start_time": "2025-05-06T02:54:21.596641Z"
    }
   },
   "cell_type": "code",
   "source": [
    "df=df_owned[df_owned['AGE'].between(20,89,\"both\")].copy()\n",
    "df['NoInjury']=df['CRASH_TYPE']=='NO INJURY / DRIVE AWAY'"
   ],
   "id": "2768ea02c622054c",
   "outputs": [],
   "execution_count": 61
  },
  {
   "metadata": {
    "ExecuteTime": {
     "end_time": "2025-05-06T02:54:48.139895Z",
     "start_time": "2025-05-06T02:54:48.125314Z"
    }
   },
   "cell_type": "code",
   "source": [
    "bins=list(range(20,91,10))\n",
    "labels = [f'{i}-{i+9}' for i in bins[:-1]]\n",
    "df['AgeGroup'] = pd.cut(df['AGE'], bins=bins, labels=labels, right=False)"
   ],
   "id": "b4a757265d49577e",
   "outputs": [],
   "execution_count": 70
  },
  {
   "metadata": {
    "ExecuteTime": {
     "end_time": "2025-05-06T02:54:38.066937Z",
     "start_time": "2025-05-06T02:54:38.045766Z"
    }
   },
   "cell_type": "code",
   "source": "df.head()",
   "id": "5db4fa1d1e8b9b8e",
   "outputs": [
    {
     "data": {
      "text/plain": [
       "  PERSON_ID PERSON_TYPE                                    CRASH_RECORD_ID  \\\n",
       "1  O1981069     BICYCLE  0d5bea8b2b8472684d78d55e882df0faecf6d29a46127d...   \n",
       "2  O1978668     BICYCLE  b34303ecdd4a5fd116f5e26f140eb7561449a748bc53dc...   \n",
       "3  O1978485     BICYCLE  540b3c613e32741b09c07b6260be03d4177b34058950a3...   \n",
       "4  O1978464     BICYCLE  88196a2e082d2721b0ebea537fc1635126e292bec7fcbc...   \n",
       "5  O1978204     BICYCLE  817649eb2dd32995f61184021f0734c63189c777206f80...   \n",
       "\n",
       "             CRASH_DATE_x SEX   AGE  \\\n",
       "1  12/31/2024 08:53:00 AM   M  21.0   \n",
       "2  12/31/2024 06:25:00 AM   M  61.0   \n",
       "3  12/30/2024 06:18:00 PM   F  56.0   \n",
       "4  12/30/2024 04:57:00 PM   F  49.0   \n",
       "5  12/30/2024 12:30:00 PM   M  28.0   \n",
       "\n",
       "                             SAFETY_EQUIPMENT  \\\n",
       "1                             HELMET NOT USED   \n",
       "2  BICYCLE HELMET (PEDACYCLIST INVOLVED ONLY)   \n",
       "3                             HELMET NOT USED   \n",
       "4                             HELMET NOT USED   \n",
       "5                             HELMET NOT USED   \n",
       "\n",
       "                            PEDPEDAL_ACTION PEDPEDAL_LOCATION  \\\n",
       "1                              WITH TRAFFIC        IN ROADWAY   \n",
       "2                              OTHER ACTION        IN ROADWAY   \n",
       "3  CROSSING - NO CONTROLS (AT INTERSECTION)      IN CROSSWALK   \n",
       "4                    CROSSING - WITH SIGNAL           BIKEWAY   \n",
       "5                              WITH TRAFFIC        IN ROADWAY   \n",
       "\n",
       "         BAC_RESULT  ...   LATITUDE  LONGITUDE  \\\n",
       "1  TEST NOT OFFERED  ...  41.894391 -87.719794   \n",
       "2  TEST NOT OFFERED  ...  41.976463 -87.656566   \n",
       "3  TEST NOT OFFERED  ...  41.950423 -87.776558   \n",
       "4  TEST NOT OFFERED  ...  41.857945 -87.663712   \n",
       "5  TEST NOT OFFERED  ...  41.891757 -87.629575   \n",
       "\n",
       "                                   LOCATION CrashDateTime CrashDatetime Month  \\\n",
       "1   POINT (-87.71979403941 41.894390910476)           NaT           NaT   NaT   \n",
       "2  POINT (-87.656566023042 41.976463062876)           NaT           NaT   NaT   \n",
       "3  POINT (-87.776557899455 41.950423326225)           NaT           NaT   NaT   \n",
       "4  POINT (-87.663712101389 41.857945166904)           NaT           NaT   NaT   \n",
       "5  POINT (-87.629575106754 41.891757056624)           NaT           NaT   NaT   \n",
       "\n",
       "  Hour      TimePeriod NoInjury AgeGroup  \n",
       "1  NaN  Evening(18-24)     True    20-29  \n",
       "2  NaN  Evening(18-24)    False    60-69  \n",
       "3  NaN  Evening(18-24)    False    50-59  \n",
       "4  NaN  Evening(18-24)    False    40-49  \n",
       "5  NaN  Evening(18-24)     True    20-29  \n",
       "\n",
       "[5 rows x 30 columns]"
      ],
      "text/html": [
       "<div>\n",
       "<style scoped>\n",
       "    .dataframe tbody tr th:only-of-type {\n",
       "        vertical-align: middle;\n",
       "    }\n",
       "\n",
       "    .dataframe tbody tr th {\n",
       "        vertical-align: top;\n",
       "    }\n",
       "\n",
       "    .dataframe thead th {\n",
       "        text-align: right;\n",
       "    }\n",
       "</style>\n",
       "<table border=\"1\" class=\"dataframe\">\n",
       "  <thead>\n",
       "    <tr style=\"text-align: right;\">\n",
       "      <th></th>\n",
       "      <th>PERSON_ID</th>\n",
       "      <th>PERSON_TYPE</th>\n",
       "      <th>CRASH_RECORD_ID</th>\n",
       "      <th>CRASH_DATE_x</th>\n",
       "      <th>SEX</th>\n",
       "      <th>AGE</th>\n",
       "      <th>SAFETY_EQUIPMENT</th>\n",
       "      <th>PEDPEDAL_ACTION</th>\n",
       "      <th>PEDPEDAL_LOCATION</th>\n",
       "      <th>BAC_RESULT</th>\n",
       "      <th>...</th>\n",
       "      <th>LATITUDE</th>\n",
       "      <th>LONGITUDE</th>\n",
       "      <th>LOCATION</th>\n",
       "      <th>CrashDateTime</th>\n",
       "      <th>CrashDatetime</th>\n",
       "      <th>Month</th>\n",
       "      <th>Hour</th>\n",
       "      <th>TimePeriod</th>\n",
       "      <th>NoInjury</th>\n",
       "      <th>AgeGroup</th>\n",
       "    </tr>\n",
       "  </thead>\n",
       "  <tbody>\n",
       "    <tr>\n",
       "      <th>1</th>\n",
       "      <td>O1981069</td>\n",
       "      <td>BICYCLE</td>\n",
       "      <td>0d5bea8b2b8472684d78d55e882df0faecf6d29a46127d...</td>\n",
       "      <td>12/31/2024 08:53:00 AM</td>\n",
       "      <td>M</td>\n",
       "      <td>21.0</td>\n",
       "      <td>HELMET NOT USED</td>\n",
       "      <td>WITH TRAFFIC</td>\n",
       "      <td>IN ROADWAY</td>\n",
       "      <td>TEST NOT OFFERED</td>\n",
       "      <td>...</td>\n",
       "      <td>41.894391</td>\n",
       "      <td>-87.719794</td>\n",
       "      <td>POINT (-87.71979403941 41.894390910476)</td>\n",
       "      <td>NaT</td>\n",
       "      <td>NaT</td>\n",
       "      <td>NaT</td>\n",
       "      <td>NaN</td>\n",
       "      <td>Evening(18-24)</td>\n",
       "      <td>True</td>\n",
       "      <td>20-29</td>\n",
       "    </tr>\n",
       "    <tr>\n",
       "      <th>2</th>\n",
       "      <td>O1978668</td>\n",
       "      <td>BICYCLE</td>\n",
       "      <td>b34303ecdd4a5fd116f5e26f140eb7561449a748bc53dc...</td>\n",
       "      <td>12/31/2024 06:25:00 AM</td>\n",
       "      <td>M</td>\n",
       "      <td>61.0</td>\n",
       "      <td>BICYCLE HELMET (PEDACYCLIST INVOLVED ONLY)</td>\n",
       "      <td>OTHER ACTION</td>\n",
       "      <td>IN ROADWAY</td>\n",
       "      <td>TEST NOT OFFERED</td>\n",
       "      <td>...</td>\n",
       "      <td>41.976463</td>\n",
       "      <td>-87.656566</td>\n",
       "      <td>POINT (-87.656566023042 41.976463062876)</td>\n",
       "      <td>NaT</td>\n",
       "      <td>NaT</td>\n",
       "      <td>NaT</td>\n",
       "      <td>NaN</td>\n",
       "      <td>Evening(18-24)</td>\n",
       "      <td>False</td>\n",
       "      <td>60-69</td>\n",
       "    </tr>\n",
       "    <tr>\n",
       "      <th>3</th>\n",
       "      <td>O1978485</td>\n",
       "      <td>BICYCLE</td>\n",
       "      <td>540b3c613e32741b09c07b6260be03d4177b34058950a3...</td>\n",
       "      <td>12/30/2024 06:18:00 PM</td>\n",
       "      <td>F</td>\n",
       "      <td>56.0</td>\n",
       "      <td>HELMET NOT USED</td>\n",
       "      <td>CROSSING - NO CONTROLS (AT INTERSECTION)</td>\n",
       "      <td>IN CROSSWALK</td>\n",
       "      <td>TEST NOT OFFERED</td>\n",
       "      <td>...</td>\n",
       "      <td>41.950423</td>\n",
       "      <td>-87.776558</td>\n",
       "      <td>POINT (-87.776557899455 41.950423326225)</td>\n",
       "      <td>NaT</td>\n",
       "      <td>NaT</td>\n",
       "      <td>NaT</td>\n",
       "      <td>NaN</td>\n",
       "      <td>Evening(18-24)</td>\n",
       "      <td>False</td>\n",
       "      <td>50-59</td>\n",
       "    </tr>\n",
       "    <tr>\n",
       "      <th>4</th>\n",
       "      <td>O1978464</td>\n",
       "      <td>BICYCLE</td>\n",
       "      <td>88196a2e082d2721b0ebea537fc1635126e292bec7fcbc...</td>\n",
       "      <td>12/30/2024 04:57:00 PM</td>\n",
       "      <td>F</td>\n",
       "      <td>49.0</td>\n",
       "      <td>HELMET NOT USED</td>\n",
       "      <td>CROSSING - WITH SIGNAL</td>\n",
       "      <td>BIKEWAY</td>\n",
       "      <td>TEST NOT OFFERED</td>\n",
       "      <td>...</td>\n",
       "      <td>41.857945</td>\n",
       "      <td>-87.663712</td>\n",
       "      <td>POINT (-87.663712101389 41.857945166904)</td>\n",
       "      <td>NaT</td>\n",
       "      <td>NaT</td>\n",
       "      <td>NaT</td>\n",
       "      <td>NaN</td>\n",
       "      <td>Evening(18-24)</td>\n",
       "      <td>False</td>\n",
       "      <td>40-49</td>\n",
       "    </tr>\n",
       "    <tr>\n",
       "      <th>5</th>\n",
       "      <td>O1978204</td>\n",
       "      <td>BICYCLE</td>\n",
       "      <td>817649eb2dd32995f61184021f0734c63189c777206f80...</td>\n",
       "      <td>12/30/2024 12:30:00 PM</td>\n",
       "      <td>M</td>\n",
       "      <td>28.0</td>\n",
       "      <td>HELMET NOT USED</td>\n",
       "      <td>WITH TRAFFIC</td>\n",
       "      <td>IN ROADWAY</td>\n",
       "      <td>TEST NOT OFFERED</td>\n",
       "      <td>...</td>\n",
       "      <td>41.891757</td>\n",
       "      <td>-87.629575</td>\n",
       "      <td>POINT (-87.629575106754 41.891757056624)</td>\n",
       "      <td>NaT</td>\n",
       "      <td>NaT</td>\n",
       "      <td>NaT</td>\n",
       "      <td>NaN</td>\n",
       "      <td>Evening(18-24)</td>\n",
       "      <td>True</td>\n",
       "      <td>20-29</td>\n",
       "    </tr>\n",
       "  </tbody>\n",
       "</table>\n",
       "<p>5 rows × 30 columns</p>\n",
       "</div>"
      ]
     },
     "execution_count": 67,
     "metadata": {},
     "output_type": "execute_result"
    }
   ],
   "execution_count": 67
  },
  {
   "metadata": {
    "ExecuteTime": {
     "end_time": "2025-05-06T02:54:49.609145Z",
     "start_time": "2025-05-06T02:54:49.595726Z"
    }
   },
   "cell_type": "code",
   "source": [
    "grouped = df.groupby('AgeGroup')['NoInjury'].agg(['mean','count']).reset_index()\n",
    "grouped.rename(columns={'mean':'NoInjuryRate','count':'TotalCrashes'}, inplace=True)"
   ],
   "id": "17ce909c8169cd52",
   "outputs": [
    {
     "name": "stderr",
     "output_type": "stream",
     "text": [
      "C:\\Users\\Yiting LI\\AppData\\Local\\Temp\\ipykernel_17964\\3591092265.py:1: FutureWarning: The default of observed=False is deprecated and will be changed to True in a future version of pandas. Pass observed=False to retain current behavior or observed=True to adopt the future default and silence this warning.\n",
      "  grouped = df.groupby('AgeGroup')['NoInjury'].agg(['mean','count']).reset_index()\n"
     ]
    }
   ],
   "execution_count": 71
  },
  {
   "metadata": {
    "ExecuteTime": {
     "end_time": "2025-05-06T02:54:50.517933Z",
     "start_time": "2025-05-06T02:54:50.508107Z"
    }
   },
   "cell_type": "code",
   "source": "print(grouped)",
   "id": "b8af115e7882059f",
   "outputs": [
    {
     "name": "stdout",
     "output_type": "stream",
     "text": [
      "  AgeGroup  NoInjuryRate  TotalCrashes\n",
      "0    20-29      0.222222          1575\n",
      "1    30-39      0.233807          1266\n",
      "2    40-49      0.208738           618\n",
      "3    50-59      0.209350           492\n",
      "4    60-69      0.169399           366\n",
      "5    70-79      0.173469            98\n",
      "6    80-89      0.050000            20\n"
     ]
    }
   ],
   "execution_count": 72
  },
  {
   "metadata": {},
   "cell_type": "markdown",
   "source": "Regression:",
   "id": "c4e1c3fee5aea313"
  },
  {
   "metadata": {
    "ExecuteTime": {
     "end_time": "2025-05-06T03:03:07.844362Z",
     "start_time": "2025-05-06T03:03:06.827058Z"
    }
   },
   "cell_type": "code",
   "source": [
    "import statsmodels.api as sm\n",
    "from scipy.stats import stats"
   ],
   "id": "73d810f37a941cc6",
   "outputs": [],
   "execution_count": 74
  },
  {
   "metadata": {
    "ExecuteTime": {
     "end_time": "2025-05-06T03:01:57.034899Z",
     "start_time": "2025-05-06T03:01:57.027534Z"
    }
   },
   "cell_type": "code",
   "source": "grouped['AgeMid']=grouped['AgeGroup'].apply(lambda x : np.mean([int(i) for i in x.split('-')]))",
   "id": "47e203f5ff7fe423",
   "outputs": [],
   "execution_count": 73
  },
  {
   "metadata": {
    "ExecuteTime": {
     "end_time": "2025-05-06T03:03:11.414158Z",
     "start_time": "2025-05-06T03:03:11.395859Z"
    }
   },
   "cell_type": "code",
   "source": [
    "slope, intercept, r_value, p_value, std_err = stats.linregress(\n",
    "    grouped['AgeMid'],\n",
    "    grouped['NoInjuryRate'])"
   ],
   "id": "8b69d1a425d16e8d",
   "outputs": [
    {
     "name": "stderr",
     "output_type": "stream",
     "text": [
      "C:\\Users\\Yiting LI\\AppData\\Local\\Temp\\ipykernel_17964\\3473245555.py:1: DeprecationWarning: Please import `linregress` from the `scipy.stats` namespace; the `scipy.stats.stats` namespace is deprecated and will be removed in SciPy 2.0.0.\n",
      "  slope, intercept, r_value, p_value, std_err = stats.linregress(\n"
     ]
    }
   ],
   "execution_count": 75
  },
  {
   "metadata": {},
   "cell_type": "markdown",
   "source": "#### Visualization",
   "id": "546d9cec74c1e15f"
  },
  {
   "metadata": {
    "ExecuteTime": {
     "end_time": "2025-05-06T03:04:10.172051Z",
     "start_time": "2025-05-06T03:04:10.057699Z"
    }
   },
   "cell_type": "code",
   "source": [
    "plt.figure(figsize=(8,5))\n",
    "plt.scatter(grouped['AgeMid'], grouped['NoInjuryRate'], s=80, alpha=0.7, label='Observed Rate')\n",
    "\n",
    "x_vals = np.array([grouped['AgeMid'].min(), grouped['AgeMid'].max()])\n",
    "y_vals = intercept + slope * x_vals\n",
    "plt.plot(x_vals, y_vals, 'r--', linewidth=2,\n",
    "         label=f'Fit: y={slope:.4f}x+{intercept:.2f}\\nR²={r_value**2:.3f}, p={p_value:.3f}')\n",
    "\n",
    "plt.xlabel('Age Group Midpoint')\n",
    "plt.ylabel('No-Injury Rate')\n",
    "plt.title('Linear Relationship: Age vs. No-Injury Rate')\n",
    "plt.legend()\n",
    "plt.grid(True)\n",
    "plt.tight_layout()\n",
    "plt.show()"
   ],
   "id": "a5efd75771baf9c6",
   "outputs": [
    {
     "data": {
      "text/plain": [
       "<Figure size 800x500 with 1 Axes>"
      ],
      "image/png": "[encoded data removed]"
     },
     "metadata": {},
     "output_type": "display_data"
    }
   ],
   "execution_count": 76
  },
  {
   "metadata": {},
   "cell_type": "markdown",
   "source": "### Result",
   "id": "478cd9844476152"
  },
  {
   "metadata": {},
   "cell_type": "markdown",
   "source": "The hypothesis is true. When riding their own bike, younger people (children excluded) are tend to have no injury when an accident happened.",
   "id": "31a28e357d9f9861"
  }
 ],
 "metadata": {
  "kernelspec": {
   "display_name": "Python [conda env:base] *",
   "language": "python",
   "name": "conda-base-py"
  },
  "language_info": {
   "codemirror_mode": {
    "name": "ipython",
    "version": 3
   },
   "file_extension": ".py",
   "mimetype": "text/x-python",
   "name": "python",
   "nbconvert_exporter": "python",
   "pygments_lexer": "ipython3",
   "version": "3.12.7"
  }
 },
 "nbformat": 4,
 "nbformat_minor": 5
}
