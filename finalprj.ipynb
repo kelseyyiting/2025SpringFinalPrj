{
 "cells": [
  {
   "cell_type": "markdown",
   "id": "f86f65ed7b1c0e4",
   "metadata": {},
   "source": [
    "### Database\n",
    "E scooter record: https://data.cityofchicago.org/Transportation/E-Scooter-Trips/2i5w-ykuw/about_data\n",
    "\n",
    "Divvy record: https://data.cityofchicago.org/Transportation/Divvy-Trips/fg6s-gzvg/about_data\n"
   ]
  },
  {
   "cell_type": "markdown",
   "id": "eaa8d1b28e6e5b7d",
   "metadata": {},
   "source": [
    "## Get ready for analysis"
   ]
  },
  {
   "cell_type": "markdown",
   "id": "79af118911d6005f",
   "metadata": {},
   "source": [
    "### Filter data from website\n",
    "I chose person_type = 'BICYCLIST' from the Traffic Crashes – People database and vehicle_type = 'MOPED OR MOTORIZED BICYCLE' from the Traffic Crashes – Vehicles database to get the crash IDs for accidents involving electric bikes, bikes and mopeds for further analysis."
   ]
  },
  {
   "cell_type": "markdown",
   "id": "41cdfb89613a5e00",
   "metadata": {},
   "source": [
    "Because the e‑scooter record data is too large, I will focus my analysis on the year 2023."
   ]
  },
  {
   "cell_type": "markdown",
   "id": "fdd824936a3ae8cd",
   "metadata": {},
   "source": [
    "## Data Preprocessing"
   ]
  },
  {
   "cell_type": "code",
   "id": "68d4f709a6e9fd4c",
   "metadata": {
    "ExecuteTime": {
     "end_time": "2025-05-04T20:03:32.022670Z",
     "start_time": "2025-05-04T20:03:32.020253Z"
    }
   },
   "source": [
    "import pandas as pd\n",
    "import numpy as np\n",
    "import doctest"
   ],
   "outputs": [],
   "execution_count": 22
  },
  {
   "metadata": {},
   "cell_type": "markdown",
   "source": "### Load the data",
   "id": "8c34adffe141874e"
  },
  {
   "metadata": {},
   "cell_type": "markdown",
   "source": "Write the method for combining multiple csv",
   "id": "58d27998efdc6a74"
  },
  {
   "metadata": {
    "ExecuteTime": {
     "end_time": "2025-05-04T20:03:32.033796Z",
     "start_time": "2025-05-04T20:03:32.028890Z"
    }
   },
   "cell_type": "code",
   "source": [
    "def load_multiple_csv(files,time_sig=False) -> pd.DataFrame:\n",
    "    dfs=[]\n",
    "\n",
    "    for file in files:\n",
    "        df=pd.read_csv(file)\n",
    "        if time_sig: # if we need to change the format of time\n",
    "            df=time_change(df)\n",
    "        dfs.append(df)\n",
    "    return pd.concat(dfs, ignore_index=True)"
   ],
   "id": "4169d63d6119f554",
   "outputs": [],
   "execution_count": 23
  },
  {
   "metadata": {
    "ExecuteTime": {
     "end_time": "2025-05-04T20:03:32.049586Z",
     "start_time": "2025-05-04T20:03:32.046473Z"
    }
   },
   "cell_type": "code",
   "source": [
    "%load_ext doctest\n",
    "%doctest_mode"
   ],
   "id": "fe0c1b081269cb7b",
   "outputs": [
    {
     "name": "stdout",
     "output_type": "stream",
     "text": [
      "The doctest module is not an IPython extension.\n",
      "Exception reporting mode: Context\n",
      "Doctest mode is: OFF\n"
     ]
    }
   ],
   "execution_count": 24
  },
  {
   "metadata": {
    "ExecuteTime": {
     "end_time": "2025-05-04T20:03:32.067095Z",
     "start_time": "2025-05-04T20:03:32.063853Z"
    }
   },
   "cell_type": "code",
   "source": [
    "def time_change(df:pd.DataFrame) : #the method of change the format of time\n",
    "    \"\"\"\n",
    "    :param df:\n",
    "    :return:\n",
    "    \"\"\"\n",
    "    df[\"Start Time\"] = pd.to_datetime(df[\"Start Time\"],format=\"%m/%d/%Y %I:%M:%S %p\")\n",
    "    df[\"End Time\"] = pd.to_datetime(df[\"End Time\"],format=\"%m/%d/%Y %I:%M:%S %p\")\n",
    "    return df"
   ],
   "id": "9e8620146e2b75de",
   "outputs": [],
   "execution_count": 25
  },
  {
   "metadata": {},
   "cell_type": "markdown",
   "source": "Load the data of scooters had crash in 2024",
   "id": "45a3f331bb4926ff"
  },
  {
   "metadata": {
    "ExecuteTime": {
     "end_time": "2025-05-04T20:09:23.878321Z",
     "start_time": "2025-05-04T20:09:23.864625Z"
    }
   },
   "cell_type": "code",
   "source": [
    "crashes_scooter = pd.read_csv('Data/Traffic_Crashes_-V-Scooter1.csv')\n",
    "crashes_scooter.head()"
   ],
   "id": "af5df915095f60eb",
   "outputs": [
    {
     "data": {
      "text/plain": [
       "   CRASH_UNIT_ID                                    CRASH_RECORD_ID  \\\n",
       "0        1973684  9d8272483c01c20bde2d269db47d217267846e5f6126fb...   \n",
       "1        1971739  81b9bd1142a056a5dd0a1e6228e3abdd2444176800fda3...   \n",
       "2        1971226  4fc7463c094e70a614198bd5d9555768da122382e70e93...   \n",
       "3        1967911  92dce173be505a7846ca571fcee740e5e3a79d354bf614...   \n",
       "4        1966169  f4ba62f428523478885a2c2576a9ac4d6c8b84aded732f...   \n",
       "\n",
       "               CRASH_DATE  UNIT_NO UNIT_TYPE  NUM_PASSENGERS  VEHICLE_ID  \\\n",
       "0  12/21/2024 02:20:00 PM        1    DRIVER             NaN     1880498   \n",
       "1  12/18/2024 05:38:00 PM        1    DRIVER             NaN     1878624   \n",
       "2  12/17/2024 10:56:00 PM        1    DRIVER             1.0     1878140   \n",
       "3  12/13/2024 12:58:00 PM        1    DRIVER             NaN     1876310   \n",
       "4  12/10/2024 12:00:00 AM        2    PARKED             NaN     1873275   \n",
       "\n",
       "   CMRC_VEH_I       MAKE                         MODEL  ... TRAILER1_LENGTH  \\\n",
       "0         NaN    UNKNOWN                     MOTORIZED  ...             NaN   \n",
       "1         NaN    UNKNOWN  OTHER (EXPLAIN IN NARRATIVE)  ...             NaN   \n",
       "2         NaN    UNKNOWN  OTHER (EXPLAIN IN NARRATIVE)  ...             NaN   \n",
       "3         NaN    UNKNOWN  OTHER (EXPLAIN IN NARRATIVE)  ...             NaN   \n",
       "4         NaN  CHEVROLET                        BLAZER  ...             NaN   \n",
       "\n",
       "   TRAILER2_LENGTH TOTAL_VEHICLE_LENGTH AXLE_CNT VEHICLE_CONFIG  \\\n",
       "0              NaN                  NaN      NaN            NaN   \n",
       "1              NaN                  NaN      NaN            NaN   \n",
       "2              NaN                  NaN      NaN            NaN   \n",
       "3              NaN                  NaN      NaN            NaN   \n",
       "4              NaN                  NaN      NaN            NaN   \n",
       "\n",
       "  CARGO_BODY_TYPE LOAD_TYPE HAZMAT_OUT_OF_SERVICE_I  MCS_OUT_OF_SERVICE_I  \\\n",
       "0             NaN       NaN                     NaN                   NaN   \n",
       "1             NaN       NaN                     NaN                   NaN   \n",
       "2             NaN       NaN                     NaN                   NaN   \n",
       "3             NaN       NaN                     NaN                   NaN   \n",
       "4             NaN       NaN                     NaN                   NaN   \n",
       "\n",
       "   HAZMAT_CLASS  \n",
       "0           NaN  \n",
       "1           NaN  \n",
       "2           NaN  \n",
       "3           NaN  \n",
       "4           NaN  \n",
       "\n",
       "[5 rows x 71 columns]"
      ],
      "text/html": [
       "<div>\n",
       "<style scoped>\n",
       "    .dataframe tbody tr th:only-of-type {\n",
       "        vertical-align: middle;\n",
       "    }\n",
       "\n",
       "    .dataframe tbody tr th {\n",
       "        vertical-align: top;\n",
       "    }\n",
       "\n",
       "    .dataframe thead th {\n",
       "        text-align: right;\n",
       "    }\n",
       "</style>\n",
       "<table border=\"1\" class=\"dataframe\">\n",
       "  <thead>\n",
       "    <tr style=\"text-align: right;\">\n",
       "      <th></th>\n",
       "      <th>CRASH_UNIT_ID</th>\n",
       "      <th>CRASH_RECORD_ID</th>\n",
       "      <th>CRASH_DATE</th>\n",
       "      <th>UNIT_NO</th>\n",
       "      <th>UNIT_TYPE</th>\n",
       "      <th>NUM_PASSENGERS</th>\n",
       "      <th>VEHICLE_ID</th>\n",
       "      <th>CMRC_VEH_I</th>\n",
       "      <th>MAKE</th>\n",
       "      <th>MODEL</th>\n",
       "      <th>...</th>\n",
       "      <th>TRAILER1_LENGTH</th>\n",
       "      <th>TRAILER2_LENGTH</th>\n",
       "      <th>TOTAL_VEHICLE_LENGTH</th>\n",
       "      <th>AXLE_CNT</th>\n",
       "      <th>VEHICLE_CONFIG</th>\n",
       "      <th>CARGO_BODY_TYPE</th>\n",
       "      <th>LOAD_TYPE</th>\n",
       "      <th>HAZMAT_OUT_OF_SERVICE_I</th>\n",
       "      <th>MCS_OUT_OF_SERVICE_I</th>\n",
       "      <th>HAZMAT_CLASS</th>\n",
       "    </tr>\n",
       "  </thead>\n",
       "  <tbody>\n",
       "    <tr>\n",
       "      <th>0</th>\n",
       "      <td>1973684</td>\n",
       "      <td>9d8272483c01c20bde2d269db47d217267846e5f6126fb...</td>\n",
       "      <td>12/21/2024 02:20:00 PM</td>\n",
       "      <td>1</td>\n",
       "      <td>DRIVER</td>\n",
       "      <td>NaN</td>\n",
       "      <td>1880498</td>\n",
       "      <td>NaN</td>\n",
       "      <td>UNKNOWN</td>\n",
       "      <td>MOTORIZED</td>\n",
       "      <td>...</td>\n",
       "      <td>NaN</td>\n",
       "      <td>NaN</td>\n",
       "      <td>NaN</td>\n",
       "      <td>NaN</td>\n",
       "      <td>NaN</td>\n",
       "      <td>NaN</td>\n",
       "      <td>NaN</td>\n",
       "      <td>NaN</td>\n",
       "      <td>NaN</td>\n",
       "      <td>NaN</td>\n",
       "    </tr>\n",
       "    <tr>\n",
       "      <th>1</th>\n",
       "      <td>1971739</td>\n",
       "      <td>81b9bd1142a056a5dd0a1e6228e3abdd2444176800fda3...</td>\n",
       "      <td>12/18/2024 05:38:00 PM</td>\n",
       "      <td>1</td>\n",
       "      <td>DRIVER</td>\n",
       "      <td>NaN</td>\n",
       "      <td>1878624</td>\n",
       "      <td>NaN</td>\n",
       "      <td>UNKNOWN</td>\n",
       "      <td>OTHER (EXPLAIN IN NARRATIVE)</td>\n",
       "      <td>...</td>\n",
       "      <td>NaN</td>\n",
       "      <td>NaN</td>\n",
       "      <td>NaN</td>\n",
       "      <td>NaN</td>\n",
       "      <td>NaN</td>\n",
       "      <td>NaN</td>\n",
       "      <td>NaN</td>\n",
       "      <td>NaN</td>\n",
       "      <td>NaN</td>\n",
       "      <td>NaN</td>\n",
       "    </tr>\n",
       "    <tr>\n",
       "      <th>2</th>\n",
       "      <td>1971226</td>\n",
       "      <td>4fc7463c094e70a614198bd5d9555768da122382e70e93...</td>\n",
       "      <td>12/17/2024 10:56:00 PM</td>\n",
       "      <td>1</td>\n",
       "      <td>DRIVER</td>\n",
       "      <td>1.0</td>\n",
       "      <td>1878140</td>\n",
       "      <td>NaN</td>\n",
       "      <td>UNKNOWN</td>\n",
       "      <td>OTHER (EXPLAIN IN NARRATIVE)</td>\n",
       "      <td>...</td>\n",
       "      <td>NaN</td>\n",
       "      <td>NaN</td>\n",
       "      <td>NaN</td>\n",
       "      <td>NaN</td>\n",
       "      <td>NaN</td>\n",
       "      <td>NaN</td>\n",
       "      <td>NaN</td>\n",
       "      <td>NaN</td>\n",
       "      <td>NaN</td>\n",
       "      <td>NaN</td>\n",
       "    </tr>\n",
       "    <tr>\n",
       "      <th>3</th>\n",
       "      <td>1967911</td>\n",
       "      <td>92dce173be505a7846ca571fcee740e5e3a79d354bf614...</td>\n",
       "      <td>12/13/2024 12:58:00 PM</td>\n",
       "      <td>1</td>\n",
       "      <td>DRIVER</td>\n",
       "      <td>NaN</td>\n",
       "      <td>1876310</td>\n",
       "      <td>NaN</td>\n",
       "      <td>UNKNOWN</td>\n",
       "      <td>OTHER (EXPLAIN IN NARRATIVE)</td>\n",
       "      <td>...</td>\n",
       "      <td>NaN</td>\n",
       "      <td>NaN</td>\n",
       "      <td>NaN</td>\n",
       "      <td>NaN</td>\n",
       "      <td>NaN</td>\n",
       "      <td>NaN</td>\n",
       "      <td>NaN</td>\n",
       "      <td>NaN</td>\n",
       "      <td>NaN</td>\n",
       "      <td>NaN</td>\n",
       "    </tr>\n",
       "    <tr>\n",
       "      <th>4</th>\n",
       "      <td>1966169</td>\n",
       "      <td>f4ba62f428523478885a2c2576a9ac4d6c8b84aded732f...</td>\n",
       "      <td>12/10/2024 12:00:00 AM</td>\n",
       "      <td>2</td>\n",
       "      <td>PARKED</td>\n",
       "      <td>NaN</td>\n",
       "      <td>1873275</td>\n",
       "      <td>NaN</td>\n",
       "      <td>CHEVROLET</td>\n",
       "      <td>BLAZER</td>\n",
       "      <td>...</td>\n",
       "      <td>NaN</td>\n",
       "      <td>NaN</td>\n",
       "      <td>NaN</td>\n",
       "      <td>NaN</td>\n",
       "      <td>NaN</td>\n",
       "      <td>NaN</td>\n",
       "      <td>NaN</td>\n",
       "      <td>NaN</td>\n",
       "      <td>NaN</td>\n",
       "      <td>NaN</td>\n",
       "    </tr>\n",
       "  </tbody>\n",
       "</table>\n",
       "<p>5 rows × 71 columns</p>\n",
       "</div>"
      ]
     },
     "execution_count": 35,
     "metadata": {},
     "output_type": "execute_result"
    }
   ],
   "execution_count": 35
  },
  {
   "metadata": {},
   "cell_type": "markdown",
   "source": "Load the details of crashes",
   "id": "699e2db313dadf53"
  },
  {
   "metadata": {
    "ExecuteTime": {
     "end_time": "2025-05-04T20:03:32.295923Z",
     "start_time": "2025-05-04T20:03:32.292685Z"
    }
   },
   "cell_type": "code",
   "source": [
    "import glob\n",
    "import os"
   ],
   "id": "21e6731b45c0b506",
   "outputs": [],
   "execution_count": 27
  },
  {
   "metadata": {
    "ExecuteTime": {
     "end_time": "2025-05-04T20:03:34.504313Z",
     "start_time": "2025-05-04T20:03:32.341894Z"
    }
   },
   "cell_type": "code",
   "source": [
    "cd=glob.glob(os.path.join(\"Data/Crashes-Crashes\",\"*.csv\"))\n",
    "crashes_details=load_multiple_csv(cd,True)"
   ],
   "id": "1118949ece08d65a",
   "outputs": [],
   "execution_count": 28
  },
  {
   "metadata": {
    "ExecuteTime": {
     "end_time": "2025-05-04T20:03:34.518447Z",
     "start_time": "2025-05-04T20:03:34.511329Z"
    }
   },
   "cell_type": "code",
   "source": "crashes_details.head()",
   "id": "7364956c0202db1d",
   "outputs": [
    {
     "data": {
      "text/plain": [
       "                                     CRASH_RECORD_ID              CRASH_DATE  \\\n",
       "0  fde5e02103debbb95ac6b0e2391cd09fc30dbbf5a96d75...  05/02/2025 02:22:00 AM   \n",
       "1  aa49b50898cebd8863b01a8b6e4da3cdcc3a2326803e3f...  05/01/2025 10:47:00 PM   \n",
       "2  8c6dc50a4a5a5f4a73cdba0049c12c1630f4608014daa8...  05/01/2025 10:45:00 PM   \n",
       "3  5a820f4840ac52672f2c15ba6246ddb6f4896191c1bad3...  05/01/2025 10:20:00 PM   \n",
       "4  c3a270cd9bc718644ca132a4b3f356b15fd2e81fab9495...  05/01/2025 09:46:00 PM   \n",
       "\n",
       "   POSTED_SPEED_LIMIT WEATHER_CONDITION      LIGHTING_CONDITION  \\\n",
       "0                  10             CLEAR  DARKNESS, LIGHTED ROAD   \n",
       "1                  15             CLEAR  DARKNESS, LIGHTED ROAD   \n",
       "2                  30             CLEAR  DARKNESS, LIGHTED ROAD   \n",
       "3                  30             CLEAR  DARKNESS, LIGHTED ROAD   \n",
       "4                  25             CLEAR  DARKNESS, LIGHTED ROAD   \n",
       "\n",
       "  ROADWAY_SURFACE_COND                        CRASH_TYPE         DAMAGE  \\\n",
       "0                  DRY            NO INJURY / DRIVE AWAY  $501 - $1,500   \n",
       "1                  DRY            NO INJURY / DRIVE AWAY   $500 OR LESS   \n",
       "2                  DRY  INJURY AND / OR TOW DUE TO CRASH    OVER $1,500   \n",
       "3                  DRY            NO INJURY / DRIVE AWAY    OVER $1,500   \n",
       "4                  DRY  INJURY AND / OR TOW DUE TO CRASH  $501 - $1,500   \n",
       "\n",
       "                             PRIM_CONTRIBUTORY_CAUSE   LATITUDE  LONGITUDE  \n",
       "0                                     NOT APPLICABLE  41.865112 -87.623952  \n",
       "1                    DRIVING ON WRONG SIDE/WRONG WAY  41.764397 -87.583777  \n",
       "2                        IMPROPER OVERTAKING/PASSING  41.869643 -87.645520  \n",
       "3                      FAILING TO YIELD RIGHT-OF-WAY  41.750262 -87.663580  \n",
       "4  UNDER THE INFLUENCE OF ALCOHOL/DRUGS (USE WHEN...  41.850762 -87.706295  "
      ],
      "text/html": [
       "<div>\n",
       "<style scoped>\n",
       "    .dataframe tbody tr th:only-of-type {\n",
       "        vertical-align: middle;\n",
       "    }\n",
       "\n",
       "    .dataframe tbody tr th {\n",
       "        vertical-align: top;\n",
       "    }\n",
       "\n",
       "    .dataframe thead th {\n",
       "        text-align: right;\n",
       "    }\n",
       "</style>\n",
       "<table border=\"1\" class=\"dataframe\">\n",
       "  <thead>\n",
       "    <tr style=\"text-align: right;\">\n",
       "      <th></th>\n",
       "      <th>CRASH_RECORD_ID</th>\n",
       "      <th>CRASH_DATE</th>\n",
       "      <th>POSTED_SPEED_LIMIT</th>\n",
       "      <th>WEATHER_CONDITION</th>\n",
       "      <th>LIGHTING_CONDITION</th>\n",
       "      <th>ROADWAY_SURFACE_COND</th>\n",
       "      <th>CRASH_TYPE</th>\n",
       "      <th>DAMAGE</th>\n",
       "      <th>PRIM_CONTRIBUTORY_CAUSE</th>\n",
       "      <th>LATITUDE</th>\n",
       "      <th>LONGITUDE</th>\n",
       "    </tr>\n",
       "  </thead>\n",
       "  <tbody>\n",
       "    <tr>\n",
       "      <th>0</th>\n",
       "      <td>fde5e02103debbb95ac6b0e2391cd09fc30dbbf5a96d75...</td>\n",
       "      <td>05/02/2025 02:22:00 AM</td>\n",
       "      <td>10</td>\n",
       "      <td>CLEAR</td>\n",
       "      <td>DARKNESS, LIGHTED ROAD</td>\n",
       "      <td>DRY</td>\n",
       "      <td>NO INJURY / DRIVE AWAY</td>\n",
       "      <td>$501 - $1,500</td>\n",
       "      <td>NOT APPLICABLE</td>\n",
       "      <td>41.865112</td>\n",
       "      <td>-87.623952</td>\n",
       "    </tr>\n",
       "    <tr>\n",
       "      <th>1</th>\n",
       "      <td>aa49b50898cebd8863b01a8b6e4da3cdcc3a2326803e3f...</td>\n",
       "      <td>05/01/2025 10:47:00 PM</td>\n",
       "      <td>15</td>\n",
       "      <td>CLEAR</td>\n",
       "      <td>DARKNESS, LIGHTED ROAD</td>\n",
       "      <td>DRY</td>\n",
       "      <td>NO INJURY / DRIVE AWAY</td>\n",
       "      <td>$500 OR LESS</td>\n",
       "      <td>DRIVING ON WRONG SIDE/WRONG WAY</td>\n",
       "      <td>41.764397</td>\n",
       "      <td>-87.583777</td>\n",
       "    </tr>\n",
       "    <tr>\n",
       "      <th>2</th>\n",
       "      <td>8c6dc50a4a5a5f4a73cdba0049c12c1630f4608014daa8...</td>\n",
       "      <td>05/01/2025 10:45:00 PM</td>\n",
       "      <td>30</td>\n",
       "      <td>CLEAR</td>\n",
       "      <td>DARKNESS, LIGHTED ROAD</td>\n",
       "      <td>DRY</td>\n",
       "      <td>INJURY AND / OR TOW DUE TO CRASH</td>\n",
       "      <td>OVER $1,500</td>\n",
       "      <td>IMPROPER OVERTAKING/PASSING</td>\n",
       "      <td>41.869643</td>\n",
       "      <td>-87.645520</td>\n",
       "    </tr>\n",
       "    <tr>\n",
       "      <th>3</th>\n",
       "      <td>5a820f4840ac52672f2c15ba6246ddb6f4896191c1bad3...</td>\n",
       "      <td>05/01/2025 10:20:00 PM</td>\n",
       "      <td>30</td>\n",
       "      <td>CLEAR</td>\n",
       "      <td>DARKNESS, LIGHTED ROAD</td>\n",
       "      <td>DRY</td>\n",
       "      <td>NO INJURY / DRIVE AWAY</td>\n",
       "      <td>OVER $1,500</td>\n",
       "      <td>FAILING TO YIELD RIGHT-OF-WAY</td>\n",
       "      <td>41.750262</td>\n",
       "      <td>-87.663580</td>\n",
       "    </tr>\n",
       "    <tr>\n",
       "      <th>4</th>\n",
       "      <td>c3a270cd9bc718644ca132a4b3f356b15fd2e81fab9495...</td>\n",
       "      <td>05/01/2025 09:46:00 PM</td>\n",
       "      <td>25</td>\n",
       "      <td>CLEAR</td>\n",
       "      <td>DARKNESS, LIGHTED ROAD</td>\n",
       "      <td>DRY</td>\n",
       "      <td>INJURY AND / OR TOW DUE TO CRASH</td>\n",
       "      <td>$501 - $1,500</td>\n",
       "      <td>UNDER THE INFLUENCE OF ALCOHOL/DRUGS (USE WHEN...</td>\n",
       "      <td>41.850762</td>\n",
       "      <td>-87.706295</td>\n",
       "    </tr>\n",
       "  </tbody>\n",
       "</table>\n",
       "</div>"
      ]
     },
     "execution_count": 29,
     "metadata": {},
     "output_type": "execute_result"
    }
   ],
   "execution_count": 29
  },
  {
   "metadata": {},
   "cell_type": "markdown",
   "source": "combined the e-scooter record",
   "id": "52f99a5333b4366c"
  },
  {
   "metadata": {
    "ExecuteTime": {
     "end_time": "2025-05-04T20:49:03.926559Z",
     "start_time": "2025-05-04T20:48:54.581115Z"
    }
   },
   "cell_type": "code",
   "source": [
    "sd=glob.glob(os.path.join(\"Data/ScooterTrips_Split\",\"*.csv\"))\n",
    "scooter_loan_record=load_multiple_csv(sd,True)\n",
    "scooter_loan_record.sort_values(by=\"End Time\",ascending=True,inplace=True)"
   ],
   "id": "817323946176b582",
   "outputs": [],
   "execution_count": 47
  },
  {
   "metadata": {
    "ExecuteTime": {
     "end_time": "2025-05-04T20:49:04.623899Z",
     "start_time": "2025-05-04T20:49:04.616986Z"
    }
   },
   "cell_type": "code",
   "source": "scooter_loan_record.head()",
   "id": "edf917a59e2bddbc",
   "outputs": [
    {
     "data": {
      "text/plain": [
       "                                     Trip ID          Start Time  \\\n",
       "140290  83db5557-4329-45c5-b222-210bd9c7a986 2024-01-01 05:00:00   \n",
       "140282  77bc6c74-51cd-41f9-b117-6cd66713dc2e 2024-01-01 05:00:00   \n",
       "140283  81bfc84b-19f5-4455-b490-c304dab6dc91 2024-01-01 05:00:00   \n",
       "140284  36022db7-81cf-471f-b261-7a0536ef7eb3 2024-01-01 05:00:00   \n",
       "140289  1007426f-4c84-4954-b328-1fbc06097b07 2024-01-01 05:00:00   \n",
       "\n",
       "                  End Time  Trip Distance  Trip Duration  \\\n",
       "140290 2024-01-01 05:00:00           1267            409   \n",
       "140282 2024-01-01 05:00:00           1276            322   \n",
       "140283 2024-01-01 05:00:00            588            107   \n",
       "140284 2024-01-01 05:00:00           1769            394   \n",
       "140289 2024-01-01 05:00:00           1354            400   \n",
       "\n",
       "        Start Centroid Latitude  Start Centroid Longitude  \\\n",
       "140290                41.927261                -87.765502   \n",
       "140282                42.009623                -87.670167   \n",
       "140283                42.009623                -87.670167   \n",
       "140284                41.741243                -87.551429   \n",
       "140289                41.927261                -87.765502   \n",
       "\n",
       "        End Centroid Latitude  End Centroid Longitude  \n",
       "140290              41.924348              -87.734740  \n",
       "140282              42.001572              -87.695013  \n",
       "140283              41.986712              -87.663417  \n",
       "140284              41.741243              -87.551429  \n",
       "140289              41.894101              -87.763112  "
      ],
      "text/html": [
       "<div>\n",
       "<style scoped>\n",
       "    .dataframe tbody tr th:only-of-type {\n",
       "        vertical-align: middle;\n",
       "    }\n",
       "\n",
       "    .dataframe tbody tr th {\n",
       "        vertical-align: top;\n",
       "    }\n",
       "\n",
       "    .dataframe thead th {\n",
       "        text-align: right;\n",
       "    }\n",
       "</style>\n",
       "<table border=\"1\" class=\"dataframe\">\n",
       "  <thead>\n",
       "    <tr style=\"text-align: right;\">\n",
       "      <th></th>\n",
       "      <th>Trip ID</th>\n",
       "      <th>Start Time</th>\n",
       "      <th>End Time</th>\n",
       "      <th>Trip Distance</th>\n",
       "      <th>Trip Duration</th>\n",
       "      <th>Start Centroid Latitude</th>\n",
       "      <th>Start Centroid Longitude</th>\n",
       "      <th>End Centroid Latitude</th>\n",
       "      <th>End Centroid Longitude</th>\n",
       "    </tr>\n",
       "  </thead>\n",
       "  <tbody>\n",
       "    <tr>\n",
       "      <th>140290</th>\n",
       "      <td>83db5557-4329-45c5-b222-210bd9c7a986</td>\n",
       "      <td>2024-01-01 05:00:00</td>\n",
       "      <td>2024-01-01 05:00:00</td>\n",
       "      <td>1267</td>\n",
       "      <td>409</td>\n",
       "      <td>41.927261</td>\n",
       "      <td>-87.765502</td>\n",
       "      <td>41.924348</td>\n",
       "      <td>-87.734740</td>\n",
       "    </tr>\n",
       "    <tr>\n",
       "      <th>140282</th>\n",
       "      <td>77bc6c74-51cd-41f9-b117-6cd66713dc2e</td>\n",
       "      <td>2024-01-01 05:00:00</td>\n",
       "      <td>2024-01-01 05:00:00</td>\n",
       "      <td>1276</td>\n",
       "      <td>322</td>\n",
       "      <td>42.009623</td>\n",
       "      <td>-87.670167</td>\n",
       "      <td>42.001572</td>\n",
       "      <td>-87.695013</td>\n",
       "    </tr>\n",
       "    <tr>\n",
       "      <th>140283</th>\n",
       "      <td>81bfc84b-19f5-4455-b490-c304dab6dc91</td>\n",
       "      <td>2024-01-01 05:00:00</td>\n",
       "      <td>2024-01-01 05:00:00</td>\n",
       "      <td>588</td>\n",
       "      <td>107</td>\n",
       "      <td>42.009623</td>\n",
       "      <td>-87.670167</td>\n",
       "      <td>41.986712</td>\n",
       "      <td>-87.663417</td>\n",
       "    </tr>\n",
       "    <tr>\n",
       "      <th>140284</th>\n",
       "      <td>36022db7-81cf-471f-b261-7a0536ef7eb3</td>\n",
       "      <td>2024-01-01 05:00:00</td>\n",
       "      <td>2024-01-01 05:00:00</td>\n",
       "      <td>1769</td>\n",
       "      <td>394</td>\n",
       "      <td>41.741243</td>\n",
       "      <td>-87.551429</td>\n",
       "      <td>41.741243</td>\n",
       "      <td>-87.551429</td>\n",
       "    </tr>\n",
       "    <tr>\n",
       "      <th>140289</th>\n",
       "      <td>1007426f-4c84-4954-b328-1fbc06097b07</td>\n",
       "      <td>2024-01-01 05:00:00</td>\n",
       "      <td>2024-01-01 05:00:00</td>\n",
       "      <td>1354</td>\n",
       "      <td>400</td>\n",
       "      <td>41.927261</td>\n",
       "      <td>-87.765502</td>\n",
       "      <td>41.894101</td>\n",
       "      <td>-87.763112</td>\n",
       "    </tr>\n",
       "  </tbody>\n",
       "</table>\n",
       "</div>"
      ]
     },
     "execution_count": 48,
     "metadata": {},
     "output_type": "execute_result"
    }
   ],
   "execution_count": 48
  },
  {
   "metadata": {},
   "cell_type": "markdown",
   "source": "### Combine the Data",
   "id": "316e9530e3e20eb4"
  },
  {
   "metadata": {},
   "cell_type": "markdown",
   "source": "Find the details of crashes from the file \"Crashes-Crashes\" with using CRASH_RECORD_ID, the CRASH_DATE will be later helpful in finding which loan record had a crash",
   "id": "d3f56d2aec8aec36"
  },
  {
   "metadata": {
    "ExecuteTime": {
     "end_time": "2025-05-04T20:46:29.967425Z",
     "start_time": "2025-05-04T20:46:29.912286Z"
    }
   },
   "cell_type": "code",
   "source": [
    "scooter_crash_detail = crashes_details[crashes_details['CRASH_RECORD_ID'].isin(crashes_scooter['CRASH_RECORD_ID'])].copy()\n",
    "scooter_crash_detail['CRASH_DATE']=pd.to_datetime(scooter_crash_detail['CRASH_DATE'],format=\"%m/%d/%Y %I:%M:%S %p\")\n",
    "scooter_crash_detail.sort_values(by=\"CRASH_DATE\",ascending=True,inplace=True)\n",
    "scooter_crash_detail.head"
   ],
   "id": "c22c5eeda8dcf9a6",
   "outputs": [
    {
     "data": {
      "text/plain": [
       "<bound method NDFrame.head of                                           CRASH_RECORD_ID          CRASH_DATE  \\\n",
       "144155  5ea616524de6e4a382b52972c780ea6b7d624212667e18... 2024-01-07 19:42:00   \n",
       "137821  3729d925ef209747c0bfd1404ff53731a6bfd91c73416c... 2024-01-30 15:15:00   \n",
       "135404  ade02228128dd40687cef57bc3effbe20086f09d20caf9... 2024-02-08 18:25:00   \n",
       "133146  36dafcdcd10a0701a2579d9eebdd53466a95c326fd13f9... 2024-02-17 12:55:00   \n",
       "132626  6cd5396550e83ead59c1b227d775d130403595327e5648... 2024-02-19 17:42:00   \n",
       "...                                                   ...                 ...   \n",
       "39806   f4ba62f428523478885a2c2576a9ac4d6c8b84aded732f... 2024-12-10 00:00:00   \n",
       "38815   92dce173be505a7846ca571fcee740e5e3a79d354bf614... 2024-12-13 12:58:00   \n",
       "37317   4fc7463c094e70a614198bd5d9555768da122382e70e93... 2024-12-17 22:56:00   \n",
       "37075   81b9bd1142a056a5dd0a1e6228e3abdd2444176800fda3... 2024-12-18 17:38:00   \n",
       "36177   9d8272483c01c20bde2d269db47d217267846e5f6126fb... 2024-12-21 14:20:00   \n",
       "\n",
       "        POSTED_SPEED_LIMIT WEATHER_CONDITION      LIGHTING_CONDITION  \\\n",
       "144155                  30             CLEAR  DARKNESS, LIGHTED ROAD   \n",
       "137821                  25             CLEAR                DAYLIGHT   \n",
       "135404                  25              RAIN  DARKNESS, LIGHTED ROAD   \n",
       "133146                   0             CLEAR                DAYLIGHT   \n",
       "132626                  30             CLEAR  DARKNESS, LIGHTED ROAD   \n",
       "...                    ...               ...                     ...   \n",
       "39806                   30             CLEAR                 UNKNOWN   \n",
       "38815                   15             CLEAR                DAYLIGHT   \n",
       "37317                   30             CLEAR  DARKNESS, LIGHTED ROAD   \n",
       "37075                   15             CLEAR  DARKNESS, LIGHTED ROAD   \n",
       "36177                   25             CLEAR                DAYLIGHT   \n",
       "\n",
       "       ROADWAY_SURFACE_COND                        CRASH_TYPE         DAMAGE  \\\n",
       "144155                  DRY  INJURY AND / OR TOW DUE TO CRASH    OVER $1,500   \n",
       "137821              UNKNOWN            NO INJURY / DRIVE AWAY    OVER $1,500   \n",
       "135404                  WET            NO INJURY / DRIVE AWAY  $501 - $1,500   \n",
       "133146                  DRY  INJURY AND / OR TOW DUE TO CRASH   $500 OR LESS   \n",
       "132626                  DRY  INJURY AND / OR TOW DUE TO CRASH   $500 OR LESS   \n",
       "...                     ...                               ...            ...   \n",
       "39806                   DRY            NO INJURY / DRIVE AWAY    OVER $1,500   \n",
       "38815                   DRY  INJURY AND / OR TOW DUE TO CRASH    OVER $1,500   \n",
       "37317                   DRY  INJURY AND / OR TOW DUE TO CRASH    OVER $1,500   \n",
       "37075                   DRY  INJURY AND / OR TOW DUE TO CRASH    OVER $1,500   \n",
       "36177                   DRY  INJURY AND / OR TOW DUE TO CRASH  $501 - $1,500   \n",
       "\n",
       "                PRIM_CONTRIBUTORY_CAUSE   LATITUDE  LONGITUDE  \n",
       "144155    FAILING TO YIELD RIGHT-OF-WAY  41.869805 -87.643776  \n",
       "137821              UNABLE TO DETERMINE  41.930921 -87.777026  \n",
       "135404    FAILING TO YIELD RIGHT-OF-WAY  41.927492 -87.680788  \n",
       "133146              UNABLE TO DETERMINE  41.961552 -87.680107  \n",
       "132626  DRIVING ON WRONG SIDE/WRONG WAY  41.924560 -87.716846  \n",
       "...                                 ...        ...        ...  \n",
       "39806               UNABLE TO DETERMINE  41.793478 -87.674426  \n",
       "38815               UNABLE TO DETERMINE  41.968783 -87.723008  \n",
       "37317      DISREGARDING TRAFFIC SIGNALS  41.878151 -87.633583  \n",
       "37075                    NOT APPLICABLE  42.017062 -87.681798  \n",
       "36177     FAILING TO YIELD RIGHT-OF-WAY  41.948914 -87.669560  \n",
       "\n",
       "[164 rows x 11 columns]>"
      ]
     },
     "execution_count": 42,
     "metadata": {},
     "output_type": "execute_result"
    }
   ],
   "execution_count": 42
  },
  {
   "metadata": {},
   "cell_type": "markdown",
   "source": "## In a crash, the scooter was loaned or owned",
   "id": "1499ad003ff001c5"
  },
  {
   "metadata": {},
   "cell_type": "markdown",
   "source": "For now, we don't know which scooter crashes were loaned or owned by the people itself. we will first match time, then match distance.",
   "id": "93234557136aea7c"
  },
  {
   "metadata": {},
   "cell_type": "markdown",
   "source": "### 5 min, 50 m",
   "id": "fcc4d3c3215aaced"
  },
  {
   "metadata": {},
   "cell_type": "markdown",
   "source": "if a loan record end within 5 minutes of a crash happened, then we calculate if they are within 50 meters, if so, we consider this loan record happened a crash.",
   "id": "6003ca8aef7d113c"
  },
  {
   "metadata": {
    "ExecuteTime": {
     "end_time": "2025-05-04T21:25:06.123909Z",
     "start_time": "2025-05-04T21:25:06.118453Z"
    }
   },
   "cell_type": "code",
   "source": [
    "time_window = pd.Timedelta(\"5min\")\n",
    "max_dist = 50"
   ],
   "id": "4129680e7106f7f8",
   "outputs": [],
   "execution_count": 58
  },
  {
   "metadata": {},
   "cell_type": "markdown",
   "source": "### Distance Calculating",
   "id": "88c5e002a331b6b9"
  },
  {
   "metadata": {
    "ExecuteTime": {
     "end_time": "2025-05-04T21:16:40.500130Z",
     "start_time": "2025-05-04T21:16:40.495457Z"
    }
   },
   "cell_type": "code",
   "source": [
    "def distance(lat1,lon1,lat2,lon2):\n",
    "    dy=(lat2-lat1)*111000\n",
    "    dx=(lon2-lon1)*111320\n",
    "    return np.hypot(dx,dy)"
   ],
   "id": "d00166b2cd27e6d3",
   "outputs": [],
   "execution_count": 49
  },
  {
   "metadata": {},
   "cell_type": "markdown",
   "source": "### Match the time and the distance",
   "id": "cb65d27194f0ebbf"
  },
  {
   "metadata": {
    "ExecuteTime": {
     "end_time": "2025-05-04T21:24:58.922358Z",
     "start_time": "2025-05-04T21:24:58.917112Z"
    }
   },
   "cell_type": "code",
   "source": [
    "def crash_label(loans:pd.DataFrame,crash,verbose=False)-> str:\n",
    "    window = ((loans['End Time'] >= crash['CRASH_DATE'] - time_window) &(loans['End Time'] <= crash['CRASH_DATE'] + time_window))\n",
    "    candidates=loans.loc[window]\n",
    "    if candidates.empty:\n",
    "        return \"owned\"\n",
    "\n",
    "    lat1,lon1=crash['LATITUDE'],crash['LONGITUDE']\n",
    "    for lat2,lon2 in zip(candidates['End Centroid Latitude'],candidates['End Centroid Longitude']):\n",
    "        if distance(lat1,lon1,lat2,lon2)<max_dist:\n",
    "            return \"rental\"\n",
    "    return \"loan\""
   ],
   "id": "4692c57578161817",
   "outputs": [],
   "execution_count": 56
  },
  {
   "metadata": {
    "ExecuteTime": {
     "end_time": "2025-05-04T22:20:58.624704Z",
     "start_time": "2025-05-04T22:20:53.073804Z"
    }
   },
   "cell_type": "code",
   "source": [
    "scooter_crash_detail[\"Mode\"]=scooter_crash_detail.apply(\n",
    "    lambda row: crash_label(scooter_loan_record, row),\n",
    "    axis=1\n",
    ")\n",
    "scooter_crash_detail.head()"
   ],
   "id": "7862ed8457d1c765",
   "outputs": [
    {
     "data": {
      "text/plain": [
       "                                          CRASH_RECORD_ID          CRASH_DATE  \\\n",
       "144155  5ea616524de6e4a382b52972c780ea6b7d624212667e18... 2024-01-07 19:42:00   \n",
       "137821  3729d925ef209747c0bfd1404ff53731a6bfd91c73416c... 2024-01-30 15:15:00   \n",
       "135404  ade02228128dd40687cef57bc3effbe20086f09d20caf9... 2024-02-08 18:25:00   \n",
       "133146  36dafcdcd10a0701a2579d9eebdd53466a95c326fd13f9... 2024-02-17 12:55:00   \n",
       "132626  6cd5396550e83ead59c1b227d775d130403595327e5648... 2024-02-19 17:42:00   \n",
       "\n",
       "        POSTED_SPEED_LIMIT WEATHER_CONDITION      LIGHTING_CONDITION  \\\n",
       "144155                  30             CLEAR  DARKNESS, LIGHTED ROAD   \n",
       "137821                  25             CLEAR                DAYLIGHT   \n",
       "135404                  25              RAIN  DARKNESS, LIGHTED ROAD   \n",
       "133146                   0             CLEAR                DAYLIGHT   \n",
       "132626                  30             CLEAR  DARKNESS, LIGHTED ROAD   \n",
       "\n",
       "       ROADWAY_SURFACE_COND                        CRASH_TYPE         DAMAGE  \\\n",
       "144155                  DRY  INJURY AND / OR TOW DUE TO CRASH    OVER $1,500   \n",
       "137821              UNKNOWN            NO INJURY / DRIVE AWAY    OVER $1,500   \n",
       "135404                  WET            NO INJURY / DRIVE AWAY  $501 - $1,500   \n",
       "133146                  DRY  INJURY AND / OR TOW DUE TO CRASH   $500 OR LESS   \n",
       "132626                  DRY  INJURY AND / OR TOW DUE TO CRASH   $500 OR LESS   \n",
       "\n",
       "                PRIM_CONTRIBUTORY_CAUSE   LATITUDE  LONGITUDE   Mode  \n",
       "144155    FAILING TO YIELD RIGHT-OF-WAY  41.869805 -87.643776  owned  \n",
       "137821              UNABLE TO DETERMINE  41.930921 -87.777026  owned  \n",
       "135404    FAILING TO YIELD RIGHT-OF-WAY  41.927492 -87.680788  owned  \n",
       "133146              UNABLE TO DETERMINE  41.961552 -87.680107   loan  \n",
       "132626  DRIVING ON WRONG SIDE/WRONG WAY  41.924560 -87.716846  owned  "
      ],
      "text/html": [
       "<div>\n",
       "<style scoped>\n",
       "    .dataframe tbody tr th:only-of-type {\n",
       "        vertical-align: middle;\n",
       "    }\n",
       "\n",
       "    .dataframe tbody tr th {\n",
       "        vertical-align: top;\n",
       "    }\n",
       "\n",
       "    .dataframe thead th {\n",
       "        text-align: right;\n",
       "    }\n",
       "</style>\n",
       "<table border=\"1\" class=\"dataframe\">\n",
       "  <thead>\n",
       "    <tr style=\"text-align: right;\">\n",
       "      <th></th>\n",
       "      <th>CRASH_RECORD_ID</th>\n",
       "      <th>CRASH_DATE</th>\n",
       "      <th>POSTED_SPEED_LIMIT</th>\n",
       "      <th>WEATHER_CONDITION</th>\n",
       "      <th>LIGHTING_CONDITION</th>\n",
       "      <th>ROADWAY_SURFACE_COND</th>\n",
       "      <th>CRASH_TYPE</th>\n",
       "      <th>DAMAGE</th>\n",
       "      <th>PRIM_CONTRIBUTORY_CAUSE</th>\n",
       "      <th>LATITUDE</th>\n",
       "      <th>LONGITUDE</th>\n",
       "      <th>Mode</th>\n",
       "    </tr>\n",
       "  </thead>\n",
       "  <tbody>\n",
       "    <tr>\n",
       "      <th>144155</th>\n",
       "      <td>5ea616524de6e4a382b52972c780ea6b7d624212667e18...</td>\n",
       "      <td>2024-01-07 19:42:00</td>\n",
       "      <td>30</td>\n",
       "      <td>CLEAR</td>\n",
       "      <td>DARKNESS, LIGHTED ROAD</td>\n",
       "      <td>DRY</td>\n",
       "      <td>INJURY AND / OR TOW DUE TO CRASH</td>\n",
       "      <td>OVER $1,500</td>\n",
       "      <td>FAILING TO YIELD RIGHT-OF-WAY</td>\n",
       "      <td>41.869805</td>\n",
       "      <td>-87.643776</td>\n",
       "      <td>owned</td>\n",
       "    </tr>\n",
       "    <tr>\n",
       "      <th>137821</th>\n",
       "      <td>3729d925ef209747c0bfd1404ff53731a6bfd91c73416c...</td>\n",
       "      <td>2024-01-30 15:15:00</td>\n",
       "      <td>25</td>\n",
       "      <td>CLEAR</td>\n",
       "      <td>DAYLIGHT</td>\n",
       "      <td>UNKNOWN</td>\n",
       "      <td>NO INJURY / DRIVE AWAY</td>\n",
       "      <td>OVER $1,500</td>\n",
       "      <td>UNABLE TO DETERMINE</td>\n",
       "      <td>41.930921</td>\n",
       "      <td>-87.777026</td>\n",
       "      <td>owned</td>\n",
       "    </tr>\n",
       "    <tr>\n",
       "      <th>135404</th>\n",
       "      <td>ade02228128dd40687cef57bc3effbe20086f09d20caf9...</td>\n",
       "      <td>2024-02-08 18:25:00</td>\n",
       "      <td>25</td>\n",
       "      <td>RAIN</td>\n",
       "      <td>DARKNESS, LIGHTED ROAD</td>\n",
       "      <td>WET</td>\n",
       "      <td>NO INJURY / DRIVE AWAY</td>\n",
       "      <td>$501 - $1,500</td>\n",
       "      <td>FAILING TO YIELD RIGHT-OF-WAY</td>\n",
       "      <td>41.927492</td>\n",
       "      <td>-87.680788</td>\n",
       "      <td>owned</td>\n",
       "    </tr>\n",
       "    <tr>\n",
       "      <th>133146</th>\n",
       "      <td>36dafcdcd10a0701a2579d9eebdd53466a95c326fd13f9...</td>\n",
       "      <td>2024-02-17 12:55:00</td>\n",
       "      <td>0</td>\n",
       "      <td>CLEAR</td>\n",
       "      <td>DAYLIGHT</td>\n",
       "      <td>DRY</td>\n",
       "      <td>INJURY AND / OR TOW DUE TO CRASH</td>\n",
       "      <td>$500 OR LESS</td>\n",
       "      <td>UNABLE TO DETERMINE</td>\n",
       "      <td>41.961552</td>\n",
       "      <td>-87.680107</td>\n",
       "      <td>loan</td>\n",
       "    </tr>\n",
       "    <tr>\n",
       "      <th>132626</th>\n",
       "      <td>6cd5396550e83ead59c1b227d775d130403595327e5648...</td>\n",
       "      <td>2024-02-19 17:42:00</td>\n",
       "      <td>30</td>\n",
       "      <td>CLEAR</td>\n",
       "      <td>DARKNESS, LIGHTED ROAD</td>\n",
       "      <td>DRY</td>\n",
       "      <td>INJURY AND / OR TOW DUE TO CRASH</td>\n",
       "      <td>$500 OR LESS</td>\n",
       "      <td>DRIVING ON WRONG SIDE/WRONG WAY</td>\n",
       "      <td>41.924560</td>\n",
       "      <td>-87.716846</td>\n",
       "      <td>owned</td>\n",
       "    </tr>\n",
       "  </tbody>\n",
       "</table>\n",
       "</div>"
      ]
     },
     "execution_count": 61,
     "metadata": {},
     "output_type": "execute_result"
    }
   ],
   "execution_count": 61
  },
  {
   "metadata": {},
   "cell_type": "markdown",
   "source": "Now, we know every crash whether the scooter is rent.",
   "id": "1f47f83e8464851a"
  },
  {
   "metadata": {
    "ExecuteTime": {
     "end_time": "2025-05-04T22:23:52.922928Z",
     "start_time": "2025-05-04T22:23:52.916412Z"
    }
   },
   "cell_type": "code",
   "source": "print(scooter_crash_detail[\"Mode\"].value_counts())",
   "id": "d3c7c7f341d39dee",
   "outputs": [
    {
     "name": "stdout",
     "output_type": "stream",
     "text": [
      "Mode\n",
      "owned    116\n",
      "loan      48\n",
      "Name: count, dtype: int64\n"
     ]
    }
   ],
   "execution_count": 63
  },
  {
   "metadata": {},
   "cell_type": "markdown",
   "source": "## Comparison",
   "id": "4231e4ccdd130023"
  },
  {
   "metadata": {},
   "cell_type": "code",
   "outputs": [],
   "execution_count": null,
   "source": "",
   "id": "966de700d1a4a3d0"
  }
 ],
 "metadata": {
  "kernelspec": {
   "display_name": "Python [conda env:base] *",
   "language": "python",
   "name": "conda-base-py"
  },
  "language_info": {
   "codemirror_mode": {
    "name": "ipython",
    "version": 3
   },
   "file_extension": ".py",
   "mimetype": "text/x-python",
   "name": "python",
   "nbconvert_exporter": "python",
   "pygments_lexer": "ipython3",
   "version": "3.12.7"
  }
 },
 "nbformat": 4,
 "nbformat_minor": 5
}
